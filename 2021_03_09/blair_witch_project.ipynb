{
 "cells": [
  {
   "cell_type": "markdown",
   "id": "aware-geometry",
   "metadata": {},
   "source": [
    "# W207 Final Project\n",
    "\n",
    "### Team:  Blair Witch Project\n",
    "\n",
    "- Kevin Ngo\n",
    "- Sharon Wu\n",
    "- Vish Pillai\n",
    "- Blair Jones\n",
    "\n",
    "### Project:  Forest Cover Type Prediction\n",
    "\n",
    "#### The challenge\n",
    "\n",
    "To predict seven different forest cover types in four different wilderness areas of the Roosevelt National Forest of Northern Colorado with the best accuracy.\n",
    "\n",
    "These areas represent forests with minimal human-caused disturbances, so that existing forest cover types are more a result of ecological processes rather than forest management practices.\n",
    "\n",
    "The actual forest cover type for a given 30 x 30 meter cell was determined from US Forest Service data. Independent variables were then derived from data obtained from the US Geological Survey and USFS. \n",
    "\n",
    "The data contains binary columns of data for qualitative independent variables such as wilderness areas and soil type.\n",
    "\n",
    "#### An overview of the 4 wilderness areas\n",
    "    - Rawah Wilderness Area\n",
    "    - Neota Wilderness Area\n",
    "    - Comanche Peak Wilderness Area\n",
    "    - Cache la Poudre Wilderness Area\n",
    "\n",
    "<table><tr>\n",
    "<td> <img src=\"locations1.png\" alt=\"Drawing\" style=\"width: 200px;\"/> </td>\n",
    "<td> <img src=\"locations2.png\" alt=\"Drawing\" style=\"width: 350px;\"/> </td>\n",
    "</tr></table>"
   ]
  },
  {
   "cell_type": "markdown",
   "id": "waiting-bottle",
   "metadata": {},
   "source": [
    "# EDA"
   ]
  },
  {
   "cell_type": "code",
   "execution_count": 1,
   "id": "western-shore",
   "metadata": {},
   "outputs": [],
   "source": [
    "#!pip install seaborn  # uncomment if not already installed"
   ]
  },
  {
   "cell_type": "code",
   "execution_count": 2,
   "id": "global-undergraduate",
   "metadata": {},
   "outputs": [],
   "source": [
    "%matplotlib inline\n",
    "import pandas as pd\n",
    "import numpy as np\n",
    "import matplotlib.pyplot as plt\n",
    "import seaborn as sns\n",
    "import math\n",
    "import time"
   ]
  },
  {
   "cell_type": "code",
   "execution_count": 3,
   "id": "fossil-amendment",
   "metadata": {},
   "outputs": [
    {
     "data": {
      "text/html": [
       "<div>\n",
       "<style scoped>\n",
       "    .dataframe tbody tr th:only-of-type {\n",
       "        vertical-align: middle;\n",
       "    }\n",
       "\n",
       "    .dataframe tbody tr th {\n",
       "        vertical-align: top;\n",
       "    }\n",
       "\n",
       "    .dataframe thead th {\n",
       "        text-align: right;\n",
       "    }\n",
       "</style>\n",
       "<table border=\"1\" class=\"dataframe\">\n",
       "  <thead>\n",
       "    <tr style=\"text-align: right;\">\n",
       "      <th></th>\n",
       "      <th>Id</th>\n",
       "      <th>Elevation</th>\n",
       "      <th>Aspect</th>\n",
       "      <th>Slope</th>\n",
       "      <th>Horizontal_Distance_To_Hydrology</th>\n",
       "      <th>Vertical_Distance_To_Hydrology</th>\n",
       "      <th>Horizontal_Distance_To_Roadways</th>\n",
       "      <th>Hillshade_9am</th>\n",
       "      <th>Hillshade_Noon</th>\n",
       "      <th>Hillshade_3pm</th>\n",
       "      <th>...</th>\n",
       "      <th>Soil_Type32</th>\n",
       "      <th>Soil_Type33</th>\n",
       "      <th>Soil_Type34</th>\n",
       "      <th>Soil_Type35</th>\n",
       "      <th>Soil_Type36</th>\n",
       "      <th>Soil_Type37</th>\n",
       "      <th>Soil_Type38</th>\n",
       "      <th>Soil_Type39</th>\n",
       "      <th>Soil_Type40</th>\n",
       "      <th>Cover_Type</th>\n",
       "    </tr>\n",
       "  </thead>\n",
       "  <tbody>\n",
       "    <tr>\n",
       "      <th>11819</th>\n",
       "      <td>11820</td>\n",
       "      <td>2813</td>\n",
       "      <td>61</td>\n",
       "      <td>22</td>\n",
       "      <td>256</td>\n",
       "      <td>163</td>\n",
       "      <td>268</td>\n",
       "      <td>232</td>\n",
       "      <td>188</td>\n",
       "      <td>77</td>\n",
       "      <td>...</td>\n",
       "      <td>0</td>\n",
       "      <td>0</td>\n",
       "      <td>0</td>\n",
       "      <td>0</td>\n",
       "      <td>0</td>\n",
       "      <td>0</td>\n",
       "      <td>0</td>\n",
       "      <td>0</td>\n",
       "      <td>0</td>\n",
       "      <td>5</td>\n",
       "    </tr>\n",
       "    <tr>\n",
       "      <th>5667</th>\n",
       "      <td>5668</td>\n",
       "      <td>2278</td>\n",
       "      <td>99</td>\n",
       "      <td>14</td>\n",
       "      <td>30</td>\n",
       "      <td>12</td>\n",
       "      <td>390</td>\n",
       "      <td>242</td>\n",
       "      <td>220</td>\n",
       "      <td>104</td>\n",
       "      <td>...</td>\n",
       "      <td>0</td>\n",
       "      <td>0</td>\n",
       "      <td>0</td>\n",
       "      <td>0</td>\n",
       "      <td>0</td>\n",
       "      <td>0</td>\n",
       "      <td>0</td>\n",
       "      <td>0</td>\n",
       "      <td>0</td>\n",
       "      <td>4</td>\n",
       "    </tr>\n",
       "    <tr>\n",
       "      <th>613</th>\n",
       "      <td>614</td>\n",
       "      <td>2753</td>\n",
       "      <td>109</td>\n",
       "      <td>19</td>\n",
       "      <td>60</td>\n",
       "      <td>-3</td>\n",
       "      <td>2771</td>\n",
       "      <td>248</td>\n",
       "      <td>216</td>\n",
       "      <td>88</td>\n",
       "      <td>...</td>\n",
       "      <td>0</td>\n",
       "      <td>0</td>\n",
       "      <td>0</td>\n",
       "      <td>0</td>\n",
       "      <td>0</td>\n",
       "      <td>0</td>\n",
       "      <td>0</td>\n",
       "      <td>0</td>\n",
       "      <td>0</td>\n",
       "      <td>5</td>\n",
       "    </tr>\n",
       "    <tr>\n",
       "      <th>10847</th>\n",
       "      <td>10848</td>\n",
       "      <td>2800</td>\n",
       "      <td>177</td>\n",
       "      <td>20</td>\n",
       "      <td>379</td>\n",
       "      <td>172</td>\n",
       "      <td>3048</td>\n",
       "      <td>226</td>\n",
       "      <td>247</td>\n",
       "      <td>145</td>\n",
       "      <td>...</td>\n",
       "      <td>0</td>\n",
       "      <td>0</td>\n",
       "      <td>0</td>\n",
       "      <td>0</td>\n",
       "      <td>0</td>\n",
       "      <td>0</td>\n",
       "      <td>0</td>\n",
       "      <td>0</td>\n",
       "      <td>0</td>\n",
       "      <td>3</td>\n",
       "    </tr>\n",
       "    <tr>\n",
       "      <th>3944</th>\n",
       "      <td>3945</td>\n",
       "      <td>2117</td>\n",
       "      <td>88</td>\n",
       "      <td>17</td>\n",
       "      <td>30</td>\n",
       "      <td>2</td>\n",
       "      <td>1127</td>\n",
       "      <td>243</td>\n",
       "      <td>211</td>\n",
       "      <td>92</td>\n",
       "      <td>...</td>\n",
       "      <td>0</td>\n",
       "      <td>0</td>\n",
       "      <td>0</td>\n",
       "      <td>0</td>\n",
       "      <td>0</td>\n",
       "      <td>0</td>\n",
       "      <td>0</td>\n",
       "      <td>0</td>\n",
       "      <td>0</td>\n",
       "      <td>4</td>\n",
       "    </tr>\n",
       "  </tbody>\n",
       "</table>\n",
       "<p>5 rows × 56 columns</p>\n",
       "</div>"
      ],
      "text/plain": [
       "          Id  Elevation  Aspect  Slope  Horizontal_Distance_To_Hydrology  \\\n",
       "11819  11820       2813      61     22                               256   \n",
       "5667    5668       2278      99     14                                30   \n",
       "613      614       2753     109     19                                60   \n",
       "10847  10848       2800     177     20                               379   \n",
       "3944    3945       2117      88     17                                30   \n",
       "\n",
       "       Vertical_Distance_To_Hydrology  Horizontal_Distance_To_Roadways  \\\n",
       "11819                             163                              268   \n",
       "5667                               12                              390   \n",
       "613                                -3                             2771   \n",
       "10847                             172                             3048   \n",
       "3944                                2                             1127   \n",
       "\n",
       "       Hillshade_9am  Hillshade_Noon  Hillshade_3pm  ...  Soil_Type32  \\\n",
       "11819            232             188             77  ...            0   \n",
       "5667             242             220            104  ...            0   \n",
       "613              248             216             88  ...            0   \n",
       "10847            226             247            145  ...            0   \n",
       "3944             243             211             92  ...            0   \n",
       "\n",
       "       Soil_Type33  Soil_Type34  Soil_Type35  Soil_Type36  Soil_Type37  \\\n",
       "11819            0            0            0            0            0   \n",
       "5667             0            0            0            0            0   \n",
       "613              0            0            0            0            0   \n",
       "10847            0            0            0            0            0   \n",
       "3944             0            0            0            0            0   \n",
       "\n",
       "       Soil_Type38  Soil_Type39  Soil_Type40  Cover_Type  \n",
       "11819            0            0            0           5  \n",
       "5667             0            0            0           4  \n",
       "613              0            0            0           5  \n",
       "10847            0            0            0           3  \n",
       "3944             0            0            0           4  \n",
       "\n",
       "[5 rows x 56 columns]"
      ]
     },
     "execution_count": 3,
     "metadata": {},
     "output_type": "execute_result"
    }
   ],
   "source": [
    "df_train = pd.read_csv('train.csv')\n",
    "df_train.sample(5)"
   ]
  },
  {
   "cell_type": "code",
   "execution_count": 4,
   "id": "sought-title",
   "metadata": {},
   "outputs": [
    {
     "name": "stdout",
     "output_type": "stream",
     "text": [
      "<class 'pandas.core.frame.DataFrame'>\n",
      "RangeIndex: 15120 entries, 0 to 15119\n",
      "Data columns (total 56 columns):\n",
      " #   Column                              Non-Null Count  Dtype\n",
      "---  ------                              --------------  -----\n",
      " 0   Id                                  15120 non-null  int64\n",
      " 1   Elevation                           15120 non-null  int64\n",
      " 2   Aspect                              15120 non-null  int64\n",
      " 3   Slope                               15120 non-null  int64\n",
      " 4   Horizontal_Distance_To_Hydrology    15120 non-null  int64\n",
      " 5   Vertical_Distance_To_Hydrology      15120 non-null  int64\n",
      " 6   Horizontal_Distance_To_Roadways     15120 non-null  int64\n",
      " 7   Hillshade_9am                       15120 non-null  int64\n",
      " 8   Hillshade_Noon                      15120 non-null  int64\n",
      " 9   Hillshade_3pm                       15120 non-null  int64\n",
      " 10  Horizontal_Distance_To_Fire_Points  15120 non-null  int64\n",
      " 11  Wilderness_Area1                    15120 non-null  int64\n",
      " 12  Wilderness_Area2                    15120 non-null  int64\n",
      " 13  Wilderness_Area3                    15120 non-null  int64\n",
      " 14  Wilderness_Area4                    15120 non-null  int64\n",
      " 15  Soil_Type1                          15120 non-null  int64\n",
      " 16  Soil_Type2                          15120 non-null  int64\n",
      " 17  Soil_Type3                          15120 non-null  int64\n",
      " 18  Soil_Type4                          15120 non-null  int64\n",
      " 19  Soil_Type5                          15120 non-null  int64\n",
      " 20  Soil_Type6                          15120 non-null  int64\n",
      " 21  Soil_Type7                          15120 non-null  int64\n",
      " 22  Soil_Type8                          15120 non-null  int64\n",
      " 23  Soil_Type9                          15120 non-null  int64\n",
      " 24  Soil_Type10                         15120 non-null  int64\n",
      " 25  Soil_Type11                         15120 non-null  int64\n",
      " 26  Soil_Type12                         15120 non-null  int64\n",
      " 27  Soil_Type13                         15120 non-null  int64\n",
      " 28  Soil_Type14                         15120 non-null  int64\n",
      " 29  Soil_Type15                         15120 non-null  int64\n",
      " 30  Soil_Type16                         15120 non-null  int64\n",
      " 31  Soil_Type17                         15120 non-null  int64\n",
      " 32  Soil_Type18                         15120 non-null  int64\n",
      " 33  Soil_Type19                         15120 non-null  int64\n",
      " 34  Soil_Type20                         15120 non-null  int64\n",
      " 35  Soil_Type21                         15120 non-null  int64\n",
      " 36  Soil_Type22                         15120 non-null  int64\n",
      " 37  Soil_Type23                         15120 non-null  int64\n",
      " 38  Soil_Type24                         15120 non-null  int64\n",
      " 39  Soil_Type25                         15120 non-null  int64\n",
      " 40  Soil_Type26                         15120 non-null  int64\n",
      " 41  Soil_Type27                         15120 non-null  int64\n",
      " 42  Soil_Type28                         15120 non-null  int64\n",
      " 43  Soil_Type29                         15120 non-null  int64\n",
      " 44  Soil_Type30                         15120 non-null  int64\n",
      " 45  Soil_Type31                         15120 non-null  int64\n",
      " 46  Soil_Type32                         15120 non-null  int64\n",
      " 47  Soil_Type33                         15120 non-null  int64\n",
      " 48  Soil_Type34                         15120 non-null  int64\n",
      " 49  Soil_Type35                         15120 non-null  int64\n",
      " 50  Soil_Type36                         15120 non-null  int64\n",
      " 51  Soil_Type37                         15120 non-null  int64\n",
      " 52  Soil_Type38                         15120 non-null  int64\n",
      " 53  Soil_Type39                         15120 non-null  int64\n",
      " 54  Soil_Type40                         15120 non-null  int64\n",
      " 55  Cover_Type                          15120 non-null  int64\n",
      "dtypes: int64(56)\n",
      "memory usage: 6.5 MB\n"
     ]
    }
   ],
   "source": [
    "df_train.info()"
   ]
  },
  {
   "cell_type": "markdown",
   "id": "smaller-singles",
   "metadata": {},
   "source": [
    "In the data we can see that:\n",
    "- training dataset has 15120 entries and 56 columns\n",
    "- there are no missing values\n",
    "- there do not appear to be any duplicates\n",
    "- data values are unscaled\n",
    "- Wilderness_Area and Soil_Type columns have binary values (0,1)\n",
    "- each row is assigned to one distinct Wilderness Area column\n",
    "- each row is assigned to one distinct Soil Type column\n",
    "- Vertical_Distance_To_Hydrology contains negative values (ex. if the location is at a lower elevation than the water source)\n",
    "- the data is evenly distributed between each Cover Type, with 2,160 rows each\n",
    "\n",
    "Cover_Type is our target column."
   ]
  },
  {
   "cell_type": "code",
   "execution_count": 5,
   "id": "considered-russian",
   "metadata": {},
   "outputs": [],
   "source": [
    "# This creates a dataset for EDA manipulation\n",
    "df_eda = df_train.copy()\n",
    "\n",
    "# This creates 2 new columns that summarize the Wilderness Area and Soil Type columns for ease of visualization\n",
    "df_eda['Wilderness_Area'] = df_eda.iloc[:,11:15].idxmax(axis=1).str.replace('Wilderness_Area','')\n",
    "df_eda['Soil_Type'] = df_eda.iloc[:,16:55].idxmax(axis=1).str.replace('Soil_Type','')"
   ]
  },
  {
   "cell_type": "markdown",
   "id": "celtic-american",
   "metadata": {},
   "source": [
    "As seen in the next plot, the distribution is skewed across Wilderness Area."
   ]
  },
  {
   "cell_type": "code",
   "execution_count": 6,
   "id": "average-creator",
   "metadata": {},
   "outputs": [
    {
     "data": {
      "text/plain": [
       "<matplotlib.axes._subplots.AxesSubplot at 0x7ffbe6471a10>"
      ]
     },
     "execution_count": 6,
     "metadata": {},
     "output_type": "execute_result"
    },
    {
     "data": {
      "image/png": "[encoded data removed]",
      "text/plain": [
       "<Figure size 432x288 with 1 Axes>"
      ]
     },
     "metadata": {
      "needs_background": "light"
     },
     "output_type": "display_data"
    }
   ],
   "source": [
    "sns.histplot(data=df_eda, x='Wilderness_Area')"
   ]
  },
  {
   "cell_type": "markdown",
   "id": "anticipated-jacksonville",
   "metadata": {},
   "source": [
    "We see that Elevation varies significantly for the different types of Cover and across Wilderness Areas."
   ]
  },
  {
   "cell_type": "code",
   "execution_count": 7,
   "id": "disturbed-today",
   "metadata": {},
   "outputs": [
    {
     "data": {
      "text/plain": [
       "<matplotlib.axes._subplots.AxesSubplot at 0x7ffbebb54490>"
      ]
     },
     "execution_count": 7,
     "metadata": {},
     "output_type": "execute_result"
    },
    {
     "data": {
      "image/png": "[encoded data removed]",
      "text/plain": [
       "<Figure size 432x288 with 1 Axes>"
      ]
     },
     "metadata": {
      "needs_background": "light"
     },
     "output_type": "display_data"
    }
   ],
   "source": [
    "sns.boxplot(data=df_eda, x='Cover_Type', y='Elevation')"
   ]
  },
  {
   "cell_type": "code",
   "execution_count": 8,
   "id": "electrical-spelling",
   "metadata": {},
   "outputs": [
    {
     "data": {
      "text/plain": [
       "<matplotlib.axes._subplots.AxesSubplot at 0x7ffbe6481750>"
      ]
     },
     "execution_count": 8,
     "metadata": {},
     "output_type": "execute_result"
    },
    {
     "data": {
      "image/png": "[encoded data removed]",
      "text/plain": [
       "<Figure size 432x288 with 1 Axes>"
      ]
     },
     "metadata": {
      "needs_background": "light"
     },
     "output_type": "display_data"
    }
   ],
   "source": [
    "sns.boxplot(data=df_eda, x='Wilderness_Area', y='Elevation')"
   ]
  },
  {
   "cell_type": "markdown",
   "id": "offensive-mistress",
   "metadata": {},
   "source": [
    "Slope and Aspect appear to be similar across the Cover Types."
   ]
  },
  {
   "cell_type": "code",
   "execution_count": 9,
   "id": "adequate-macintosh",
   "metadata": {},
   "outputs": [
    {
     "data": {
      "text/plain": [
       "<matplotlib.axes._subplots.AxesSubplot at 0x7ffbeb0c7890>"
      ]
     },
     "execution_count": 9,
     "metadata": {},
     "output_type": "execute_result"
    },
    {
     "data": {
      "image/png": "[encoded data removed]",
      "text/plain": [
       "<Figure size 432x288 with 1 Axes>"
      ]
     },
     "metadata": {
      "needs_background": "light"
     },
     "output_type": "display_data"
    }
   ],
   "source": [
    "sns.boxplot(data=df_eda, x='Cover_Type', y='Slope')"
   ]
  },
  {
   "cell_type": "code",
   "execution_count": 10,
   "id": "sharing-movie",
   "metadata": {},
   "outputs": [
    {
     "data": {
      "text/plain": [
       "<matplotlib.axes._subplots.AxesSubplot at 0x7ffbeb228d10>"
      ]
     },
     "execution_count": 10,
     "metadata": {},
     "output_type": "execute_result"
    },
    {
     "data": {
      "image/png": "[encoded data removed]",
      "text/plain": [
       "<Figure size 432x288 with 1 Axes>"
      ]
     },
     "metadata": {
      "needs_background": "light"
     },
     "output_type": "display_data"
    }
   ],
   "source": [
    "sns.boxplot(data=df_eda, x='Cover_Type', y='Aspect')"
   ]
  },
  {
   "cell_type": "markdown",
   "id": "reduced-quantity",
   "metadata": {},
   "source": [
    "## Feature: Cover_Type & Wilderness_Areas"
   ]
  },
  {
   "cell_type": "code",
   "execution_count": 11,
   "id": "trying-dryer",
   "metadata": {},
   "outputs": [
    {
     "data": {
      "image/png": "[encoded data removed]",
      "text/plain": [
       "<Figure size 1080x432 with 1 Axes>"
      ]
     },
     "metadata": {
      "needs_background": "light"
     },
     "output_type": "display_data"
    }
   ],
   "source": [
    "plt.figure(figsize=(15,6))   \n",
    "order = [\"1\",\"2\",\"3\",\"4\"]\n",
    "ax = sns.countplot(x= \"Wilderness_Area\", hue = \"Cover_Type\", data = df_eda, order=order)\n",
    "ax.set_xlabel(\"Wilderness Area\",fontsize=12)\n",
    "ax.set_ylabel(\"Count\",fontsize=12)\n",
    "plt.legend(title=\"Cover Type\", loc='upper left',fontsize=12)\n",
    "plt.show()"
   ]
  },
  {
   "cell_type": "markdown",
   "id": "split-persian",
   "metadata": {},
   "source": [
    "Some cover types only belong specific wilderness areas, in this case wilderness areas could be a significant variables in the predictive model."
   ]
  },
  {
   "cell_type": "markdown",
   "id": "female-corpus",
   "metadata": {},
   "source": [
    "## Data Transformations"
   ]
  },
  {
   "cell_type": "code",
   "execution_count": 12,
   "id": "accepted-radiation",
   "metadata": {},
   "outputs": [],
   "source": [
    "# normalization\n",
    "from sklearn.preprocessing import normalize\n",
    "\n",
    "col_normalize = ['Aspect','Slope','Horizontal_Distance_To_Hydrology','Vertical_Distance_To_Hydrology', 'Hillshade_9am','Hillshade_Noon','Hillshade_3pm','Horizontal_Distance_To_Fire_Points']\n",
    "df_train_norm = df_train.copy()\n",
    "df_train_norm[col_normalize] = normalize(df_train[col_normalize])"
   ]
  },
  {
   "cell_type": "markdown",
   "id": "agricultural-avatar",
   "metadata": {},
   "source": [
    "\n",
    "\n",
    "to be completed\n",
    "\n",
    "copy from Sharon/Vish/Kevin notebooks for EDA modeling examples \n",
    "\n",
    "                 - WITHOUT TRAINING RESULTS \n",
    "                 - THIS IS JUST FOR PCA/Feature Selection\n",
    "        \n",
    "        \n",
    "        "
   ]
  },
  {
   "cell_type": "markdown",
   "id": "logical-lighting",
   "metadata": {},
   "source": [
    "# Hypothesis"
   ]
  },
  {
   "cell_type": "markdown",
   "id": "bibliographic-insight",
   "metadata": {},
   "source": [
    "Based on the EDA, we believe that a Decision Tree approach will yield the best classification results and also serve as the basis for a good predictor on the test dataset.\n",
    "\n",
    "One features is strongly linked to a specific Cover Type:  Cover Type 4 is only found in Wilderness Area 4.  However there is significant overlap of other features for all Cover Types and Wildnerness Areas.  This suggests that a strategy using smaller Decision Trees to classify sub-groupings of features will be effective."
   ]
  },
  {
   "cell_type": "markdown",
   "id": "coordinate-beach",
   "metadata": {},
   "source": [
    "# Modeling"
   ]
  },
  {
   "cell_type": "markdown",
   "id": "noted-presentation",
   "metadata": {},
   "source": [
    "There are many models we can test, including:\n",
    "- Decision Tree\n",
    "- Random Forest\n",
    "- XGBoost\n",
    "- Neural Network\n",
    "- etc.\n",
    "\n",
    "This first pass will examine RandomForest against the Training dataset, using random sampling to extract a sub-training set and then evaluating performance of the trained classifier against the remaining data in the training data.  \n",
    "\n",
    "This way we avoid touching the true Testing dataset until we are satisfied that our model performs as expected and should also generalize."
   ]
  },
  {
   "cell_type": "code",
   "execution_count": 13,
   "id": "grateful-baptist",
   "metadata": {},
   "outputs": [],
   "source": [
    "from sklearn.ensemble import RandomForestClassifier\n",
    "from sklearn.tree import DecisionTreeClassifier\n",
    "\n",
    "from sklearn.metrics import accuracy_score, plot_confusion_matrix, confusion_matrix as cm\n",
    "from sklearn.model_selection import train_test_split\n",
    "from sklearn import model_selection"
   ]
  },
  {
   "cell_type": "code",
   "execution_count": 14,
   "id": "russian-smart",
   "metadata": {},
   "outputs": [],
   "source": [
    "np.set_printoptions(precision=5)\n",
    "def score_model(model,df, return_val=False, return_train=False, display=True, return_acc=False, return_time=False, show_weights=False):\n",
    "    X , Y = df.drop(columns=['Id','Cover_Type']).to_numpy(), df.Cover_Type.to_numpy()\n",
    "    X_train, X_val, y_train, y_val = train_test_split(X, Y, test_size=.33, random_state=0)\n",
    "    start = time.time()\n",
    "    results = model_selection.cross_val_score(model, X, Y, cv=kfold)\n",
    "    model.fit(X_train, y_train)\n",
    "    pred = model.predict(X_val)\n",
    "    acc = accuracy_score(y_val, pred)\n",
    "    end = time.time()\n",
    "    print('\\nModel:',type(model).__name__)\n",
    "    print('\\tcv acc:', round(results.mean(),4))\n",
    "    print('\\tsplit acc:', round(acc,4))\n",
    "    print('\\ttime taken:', round(end-start, 4))\n",
    "    if display:\n",
    "        matrix = cm(y_val, pred)\n",
    "        print('\\t', matrix.diagonal() / matrix.sum(axis=1))\n",
    "\n",
    "        disp = plot_confusion_matrix(model, X_val, y_val, display_labels=set(y_train), cmap=plt.cm.Blues, normalize='true')\n",
    "        plt.show()\n",
    "    \n",
    "    if show_weights:\n",
    "        for w,k in sorted(list(zip(model.feature_importances_, df.drop(columns=['Id','Cover_Type']).columns)), key=lambda x: x[0]):\n",
    "            print(k,w)\n",
    "            \n",
    "    # return all data\n",
    "    return_data = [model]\n",
    "    if return_train:\n",
    "        return_data += [X_train, y_train]\n",
    "    if return_val:\n",
    "        return_data += [X_val, y_val]\n",
    "    if return_acc:\n",
    "        return_data += [acc]\n",
    "    if return_time:\n",
    "        return_data += [end-start]\n",
    "    return tuple(return_data)"
   ]
  },
  {
   "cell_type": "code",
   "execution_count": 15,
   "id": "revolutionary-motorcycle",
   "metadata": {},
   "outputs": [],
   "source": [
    "kfold = model_selection.KFold(n_splits=10, random_state=0, shuffle=True)"
   ]
  },
  {
   "cell_type": "code",
   "execution_count": 16,
   "id": "outdoor-personality",
   "metadata": {},
   "outputs": [
    {
     "name": "stdout",
     "output_type": "stream",
     "text": [
      "\n",
      "Model: DecisionTreeClassifier\n",
      "\tcv acc: 0.7877\n",
      "\tsplit acc: 0.7727\n",
      "\ttime taken: 1.4939\n",
      "\t [0.65199 0.58582 0.74491 0.91457 0.8653  0.73978 0.90884]\n"
     ]
    },
    {
     "data": {
      "image/png": "[encoded data removed]",
      "text/plain": [
       "<Figure size 432x288 with 2 Axes>"
      ]
     },
     "metadata": {
      "needs_background": "light"
     },
     "output_type": "display_data"
    },
    {
     "name": "stdout",
     "output_type": "stream",
     "text": [
      "\n",
      "Model: RandomForestClassifier\n",
      "\tcv acc: 0.8743\n",
      "\tsplit acc: 0.8539\n",
      "\ttime taken: 9.8042\n",
      "\t [0.75852 0.68369 0.83446 0.96078 0.9429  0.83106 0.96774]\n"
     ]
    },
    {
     "data": {
      "image/png": "[encoded data removed]",
      "text/plain": [
       "<Figure size 432x288 with 2 Axes>"
      ]
     },
     "metadata": {
      "needs_background": "light"
     },
     "output_type": "display_data"
    }
   ],
   "source": [
    "models = []\n",
    "for clf in [\n",
    "    DecisionTreeClassifier(max_depth=14, random_state=0), # 14 was determine by iterating\n",
    "    RandomForestClassifier(n_jobs=-1, random_state=0),]:\n",
    "    \n",
    "    models.append(score_model(clf,df_train_norm))"
   ]
  },
  {
   "cell_type": "code",
   "execution_count": 17,
   "id": "framed-banner",
   "metadata": {},
   "outputs": [
    {
     "ename": "SyntaxError",
     "evalue": "invalid syntax (<ipython-input-17-620a117891bf>, line 1)",
     "output_type": "error",
     "traceback": [
      "\u001b[0;36m  File \u001b[0;32m\"<ipython-input-17-620a117891bf>\"\u001b[0;36m, line \u001b[0;32m1\u001b[0m\n\u001b[0;31m    work in progress - to be completed\u001b[0m\n\u001b[0m                           ^\u001b[0m\n\u001b[0;31mSyntaxError\u001b[0m\u001b[0;31m:\u001b[0m invalid syntax\n"
     ]
    }
   ],
   "source": [
    "work in progress - to be completed"
   ]
  },
  {
   "cell_type": "code",
   "execution_count": null,
   "id": "hawaiian-raleigh",
   "metadata": {},
   "outputs": [],
   "source": []
  }
 ],
 "metadata": {
  "kernelspec": {
   "display_name": "Python 3",
   "language": "python",
   "name": "python3"
  },
  "language_info": {
   "codemirror_mode": {
    "name": "ipython",
    "version": 3
   },
   "file_extension": ".py",
   "mimetype": "text/x-python",
   "name": "python",
   "nbconvert_exporter": "python",
   "pygments_lexer": "ipython3",
   "version": "3.7.4"
  }
 },
 "nbformat": 4,
 "nbformat_minor": 5
}
