{
 "cells": [
  {
   "cell_type": "markdown",
   "id": "rotary-hotel",
   "metadata": {},
   "source": [
    "# W207 Final Project\n",
    "\n",
    "### Team:  Blair Witch Project\n",
    "\n",
    "- Kevin Ngo\n",
    "- Sharon Wu\n",
    "- Vish Pillai\n",
    "- Blair Jones\n",
    "\n",
    "### Project:  Forest Cover Type Prediction\n",
    "\n",
    "#### The challenge\n",
    "\n",
    "To predict seven different forest cover types in four different wilderness areas of the Roosevelt National Forest of Northern Colorado with the best accuracy.\n",
    "\n",
    "These areas represent forests with minimal human-caused disturbances, so that existing forest cover types are more a result of ecological processes rather than forest management practices.\n",
    "\n",
    "The actual forest cover type for a given 30 x 30 meter cell was determined from US Forest Service data. Independent variables were then derived from data obtained from the US Geological Survey and USFS. \n",
    "\n",
    "The data contains binary columns of data for qualitative independent variables such as wilderness areas and soil type.\n",
    "\n",
    "#### An overview of the 4 wilderness areas\n",
    "    - Rawah Wilderness Area\n",
    "    - Neota Wilderness Area\n",
    "    - Comanche Peak Wilderness Area\n",
    "    - Cache la Poudre Wilderness Area\n",
    "\n",
    "<table><tr>\n",
    "<td> <img src=\"locations1.png\" alt=\"Drawing\" style=\"width: 200px;\"/> </td>\n",
    "<td> <img src=\"locations2.png\" alt=\"Drawing\" style=\"width: 350px;\"/> </td>\n",
    "</tr></table>"
   ]
  },
  {
   "cell_type": "markdown",
   "id": "coastal-internship",
   "metadata": {},
   "source": [
    "# EDA"
   ]
  },
  {
   "cell_type": "code",
   "execution_count": 1,
   "id": "returning-meeting",
   "metadata": {},
   "outputs": [],
   "source": [
    "#!pip install seaborn  # uncomment if not already installed\n",
    "#!pip install keras # uncomment if not already installed\n",
    "#!pip install tensorflow # uncomment if not already installed"
   ]
  },
  {
   "cell_type": "code",
   "execution_count": 2,
   "id": "looking-nitrogen",
   "metadata": {},
   "outputs": [],
   "source": [
    "%matplotlib inline\n",
    "import math\n",
    "import time\n",
    "import pandas as pd\n",
    "import numpy as np\n",
    "import matplotlib.pyplot as plt\n",
    "from sklearn import metrics\n",
    "from sklearn.decomposition import PCA, SparsePCA, TruncatedSVD\n",
    "from sklearn.ensemble import *\n",
    "from sklearn.preprocessing import normalize\n",
    "import math\n",
    "from sklearn.model_selection import train_test_split\n",
    "from sklearn.experimental import enable_hist_gradient_boosting\n",
    "from sklearn.ensemble import HistGradientBoostingClassifier\n",
    "from sklearn import model_selection\n",
    "from sklearn.metrics import accuracy_score, plot_confusion_matrix, confusion_matrix as cm\n",
    "import seaborn as sn\n",
    "import keras\n",
    "from keras.models import Sequential\n",
    "from keras.layers import Dense\n",
    "import tensorflow as tf\n",
    "from sklearn.preprocessing import LabelEncoder, OneHotEncoder\n",
    "from keras.wrappers.scikit_learn import KerasClassifier\n",
    "from keras.utils.np_utils import to_categorical\n",
    "from itertools import combinations "
   ]
  },
  {
   "cell_type": "code",
   "execution_count": 3,
   "id": "toxic-token",
   "metadata": {},
   "outputs": [
    {
     "data": {
      "text/html": [
       "<div>\n",
       "<style scoped>\n",
       "    .dataframe tbody tr th:only-of-type {\n",
       "        vertical-align: middle;\n",
       "    }\n",
       "\n",
       "    .dataframe tbody tr th {\n",
       "        vertical-align: top;\n",
       "    }\n",
       "\n",
       "    .dataframe thead th {\n",
       "        text-align: right;\n",
       "    }\n",
       "</style>\n",
       "<table border=\"1\" class=\"dataframe\">\n",
       "  <thead>\n",
       "    <tr style=\"text-align: right;\">\n",
       "      <th></th>\n",
       "      <th>Id</th>\n",
       "      <th>Elevation</th>\n",
       "      <th>Aspect</th>\n",
       "      <th>Slope</th>\n",
       "      <th>Horizontal_Distance_To_Hydrology</th>\n",
       "      <th>Vertical_Distance_To_Hydrology</th>\n",
       "      <th>Horizontal_Distance_To_Roadways</th>\n",
       "      <th>Hillshade_9am</th>\n",
       "      <th>Hillshade_Noon</th>\n",
       "      <th>Hillshade_3pm</th>\n",
       "      <th>...</th>\n",
       "      <th>Soil_Type32</th>\n",
       "      <th>Soil_Type33</th>\n",
       "      <th>Soil_Type34</th>\n",
       "      <th>Soil_Type35</th>\n",
       "      <th>Soil_Type36</th>\n",
       "      <th>Soil_Type37</th>\n",
       "      <th>Soil_Type38</th>\n",
       "      <th>Soil_Type39</th>\n",
       "      <th>Soil_Type40</th>\n",
       "      <th>Cover_Type</th>\n",
       "    </tr>\n",
       "  </thead>\n",
       "  <tbody>\n",
       "    <tr>\n",
       "      <th>3866</th>\n",
       "      <td>3867</td>\n",
       "      <td>2133</td>\n",
       "      <td>233</td>\n",
       "      <td>9</td>\n",
       "      <td>30</td>\n",
       "      <td>0</td>\n",
       "      <td>1235</td>\n",
       "      <td>205</td>\n",
       "      <td>249</td>\n",
       "      <td>181</td>\n",
       "      <td>...</td>\n",
       "      <td>0</td>\n",
       "      <td>0</td>\n",
       "      <td>0</td>\n",
       "      <td>0</td>\n",
       "      <td>0</td>\n",
       "      <td>0</td>\n",
       "      <td>0</td>\n",
       "      <td>0</td>\n",
       "      <td>0</td>\n",
       "      <td>4</td>\n",
       "    </tr>\n",
       "    <tr>\n",
       "      <th>8216</th>\n",
       "      <td>8217</td>\n",
       "      <td>3132</td>\n",
       "      <td>52</td>\n",
       "      <td>9</td>\n",
       "      <td>60</td>\n",
       "      <td>-1</td>\n",
       "      <td>1892</td>\n",
       "      <td>225</td>\n",
       "      <td>221</td>\n",
       "      <td>130</td>\n",
       "      <td>...</td>\n",
       "      <td>0</td>\n",
       "      <td>0</td>\n",
       "      <td>0</td>\n",
       "      <td>0</td>\n",
       "      <td>0</td>\n",
       "      <td>0</td>\n",
       "      <td>0</td>\n",
       "      <td>0</td>\n",
       "      <td>0</td>\n",
       "      <td>1</td>\n",
       "    </tr>\n",
       "    <tr>\n",
       "      <th>6939</th>\n",
       "      <td>6940</td>\n",
       "      <td>2610</td>\n",
       "      <td>110</td>\n",
       "      <td>14</td>\n",
       "      <td>510</td>\n",
       "      <td>33</td>\n",
       "      <td>649</td>\n",
       "      <td>243</td>\n",
       "      <td>224</td>\n",
       "      <td>107</td>\n",
       "      <td>...</td>\n",
       "      <td>0</td>\n",
       "      <td>0</td>\n",
       "      <td>0</td>\n",
       "      <td>0</td>\n",
       "      <td>0</td>\n",
       "      <td>0</td>\n",
       "      <td>0</td>\n",
       "      <td>0</td>\n",
       "      <td>0</td>\n",
       "      <td>5</td>\n",
       "    </tr>\n",
       "    <tr>\n",
       "      <th>6103</th>\n",
       "      <td>6104</td>\n",
       "      <td>2311</td>\n",
       "      <td>177</td>\n",
       "      <td>20</td>\n",
       "      <td>42</td>\n",
       "      <td>13</td>\n",
       "      <td>1260</td>\n",
       "      <td>226</td>\n",
       "      <td>247</td>\n",
       "      <td>144</td>\n",
       "      <td>...</td>\n",
       "      <td>0</td>\n",
       "      <td>0</td>\n",
       "      <td>0</td>\n",
       "      <td>0</td>\n",
       "      <td>0</td>\n",
       "      <td>0</td>\n",
       "      <td>0</td>\n",
       "      <td>0</td>\n",
       "      <td>0</td>\n",
       "      <td>4</td>\n",
       "    </tr>\n",
       "    <tr>\n",
       "      <th>4669</th>\n",
       "      <td>4670</td>\n",
       "      <td>2218</td>\n",
       "      <td>303</td>\n",
       "      <td>30</td>\n",
       "      <td>180</td>\n",
       "      <td>129</td>\n",
       "      <td>671</td>\n",
       "      <td>126</td>\n",
       "      <td>211</td>\n",
       "      <td>218</td>\n",
       "      <td>...</td>\n",
       "      <td>0</td>\n",
       "      <td>0</td>\n",
       "      <td>0</td>\n",
       "      <td>0</td>\n",
       "      <td>0</td>\n",
       "      <td>0</td>\n",
       "      <td>0</td>\n",
       "      <td>0</td>\n",
       "      <td>0</td>\n",
       "      <td>6</td>\n",
       "    </tr>\n",
       "  </tbody>\n",
       "</table>\n",
       "<p>5 rows × 56 columns</p>\n",
       "</div>"
      ],
      "text/plain": [
       "        Id  Elevation  Aspect  Slope  Horizontal_Distance_To_Hydrology  \\\n",
       "3866  3867       2133     233      9                                30   \n",
       "8216  8217       3132      52      9                                60   \n",
       "6939  6940       2610     110     14                               510   \n",
       "6103  6104       2311     177     20                                42   \n",
       "4669  4670       2218     303     30                               180   \n",
       "\n",
       "      Vertical_Distance_To_Hydrology  Horizontal_Distance_To_Roadways  \\\n",
       "3866                               0                             1235   \n",
       "8216                              -1                             1892   \n",
       "6939                              33                              649   \n",
       "6103                              13                             1260   \n",
       "4669                             129                              671   \n",
       "\n",
       "      Hillshade_9am  Hillshade_Noon  Hillshade_3pm  ...  Soil_Type32  \\\n",
       "3866            205             249            181  ...            0   \n",
       "8216            225             221            130  ...            0   \n",
       "6939            243             224            107  ...            0   \n",
       "6103            226             247            144  ...            0   \n",
       "4669            126             211            218  ...            0   \n",
       "\n",
       "      Soil_Type33  Soil_Type34  Soil_Type35  Soil_Type36  Soil_Type37  \\\n",
       "3866            0            0            0            0            0   \n",
       "8216            0            0            0            0            0   \n",
       "6939            0            0            0            0            0   \n",
       "6103            0            0            0            0            0   \n",
       "4669            0            0            0            0            0   \n",
       "\n",
       "      Soil_Type38  Soil_Type39  Soil_Type40  Cover_Type  \n",
       "3866            0            0            0           4  \n",
       "8216            0            0            0           1  \n",
       "6939            0            0            0           5  \n",
       "6103            0            0            0           4  \n",
       "4669            0            0            0           6  \n",
       "\n",
       "[5 rows x 56 columns]"
      ]
     },
     "execution_count": 3,
     "metadata": {},
     "output_type": "execute_result"
    }
   ],
   "source": [
    "df_train = pd.read_csv('train.csv')\n",
    "df_train.sample(5)"
   ]
  },
  {
   "cell_type": "code",
   "execution_count": 4,
   "id": "headed-connecticut",
   "metadata": {},
   "outputs": [
    {
     "name": "stdout",
     "output_type": "stream",
     "text": [
      "<class 'pandas.core.frame.DataFrame'>\n",
      "RangeIndex: 15120 entries, 0 to 15119\n",
      "Data columns (total 56 columns):\n",
      " #   Column                              Non-Null Count  Dtype\n",
      "---  ------                              --------------  -----\n",
      " 0   Id                                  15120 non-null  int64\n",
      " 1   Elevation                           15120 non-null  int64\n",
      " 2   Aspect                              15120 non-null  int64\n",
      " 3   Slope                               15120 non-null  int64\n",
      " 4   Horizontal_Distance_To_Hydrology    15120 non-null  int64\n",
      " 5   Vertical_Distance_To_Hydrology      15120 non-null  int64\n",
      " 6   Horizontal_Distance_To_Roadways     15120 non-null  int64\n",
      " 7   Hillshade_9am                       15120 non-null  int64\n",
      " 8   Hillshade_Noon                      15120 non-null  int64\n",
      " 9   Hillshade_3pm                       15120 non-null  int64\n",
      " 10  Horizontal_Distance_To_Fire_Points  15120 non-null  int64\n",
      " 11  Wilderness_Area1                    15120 non-null  int64\n",
      " 12  Wilderness_Area2                    15120 non-null  int64\n",
      " 13  Wilderness_Area3                    15120 non-null  int64\n",
      " 14  Wilderness_Area4                    15120 non-null  int64\n",
      " 15  Soil_Type1                          15120 non-null  int64\n",
      " 16  Soil_Type2                          15120 non-null  int64\n",
      " 17  Soil_Type3                          15120 non-null  int64\n",
      " 18  Soil_Type4                          15120 non-null  int64\n",
      " 19  Soil_Type5                          15120 non-null  int64\n",
      " 20  Soil_Type6                          15120 non-null  int64\n",
      " 21  Soil_Type7                          15120 non-null  int64\n",
      " 22  Soil_Type8                          15120 non-null  int64\n",
      " 23  Soil_Type9                          15120 non-null  int64\n",
      " 24  Soil_Type10                         15120 non-null  int64\n",
      " 25  Soil_Type11                         15120 non-null  int64\n",
      " 26  Soil_Type12                         15120 non-null  int64\n",
      " 27  Soil_Type13                         15120 non-null  int64\n",
      " 28  Soil_Type14                         15120 non-null  int64\n",
      " 29  Soil_Type15                         15120 non-null  int64\n",
      " 30  Soil_Type16                         15120 non-null  int64\n",
      " 31  Soil_Type17                         15120 non-null  int64\n",
      " 32  Soil_Type18                         15120 non-null  int64\n",
      " 33  Soil_Type19                         15120 non-null  int64\n",
      " 34  Soil_Type20                         15120 non-null  int64\n",
      " 35  Soil_Type21                         15120 non-null  int64\n",
      " 36  Soil_Type22                         15120 non-null  int64\n",
      " 37  Soil_Type23                         15120 non-null  int64\n",
      " 38  Soil_Type24                         15120 non-null  int64\n",
      " 39  Soil_Type25                         15120 non-null  int64\n",
      " 40  Soil_Type26                         15120 non-null  int64\n",
      " 41  Soil_Type27                         15120 non-null  int64\n",
      " 42  Soil_Type28                         15120 non-null  int64\n",
      " 43  Soil_Type29                         15120 non-null  int64\n",
      " 44  Soil_Type30                         15120 non-null  int64\n",
      " 45  Soil_Type31                         15120 non-null  int64\n",
      " 46  Soil_Type32                         15120 non-null  int64\n",
      " 47  Soil_Type33                         15120 non-null  int64\n",
      " 48  Soil_Type34                         15120 non-null  int64\n",
      " 49  Soil_Type35                         15120 non-null  int64\n",
      " 50  Soil_Type36                         15120 non-null  int64\n",
      " 51  Soil_Type37                         15120 non-null  int64\n",
      " 52  Soil_Type38                         15120 non-null  int64\n",
      " 53  Soil_Type39                         15120 non-null  int64\n",
      " 54  Soil_Type40                         15120 non-null  int64\n",
      " 55  Cover_Type                          15120 non-null  int64\n",
      "dtypes: int64(56)\n",
      "memory usage: 6.5 MB\n"
     ]
    }
   ],
   "source": [
    "df_train.info()"
   ]
  },
  {
   "cell_type": "code",
   "execution_count": 5,
   "id": "martial-spread",
   "metadata": {},
   "outputs": [
    {
     "data": {
      "text/html": [
       "<div>\n",
       "<style scoped>\n",
       "    .dataframe tbody tr th:only-of-type {\n",
       "        vertical-align: middle;\n",
       "    }\n",
       "\n",
       "    .dataframe tbody tr th {\n",
       "        vertical-align: top;\n",
       "    }\n",
       "\n",
       "    .dataframe thead th {\n",
       "        text-align: right;\n",
       "    }\n",
       "</style>\n",
       "<table border=\"1\" class=\"dataframe\">\n",
       "  <thead>\n",
       "    <tr style=\"text-align: right;\">\n",
       "      <th></th>\n",
       "      <th>Aspect</th>\n",
       "      <th>Elevation</th>\n",
       "      <th>Hillshade_3pm</th>\n",
       "      <th>Hillshade_9am</th>\n",
       "      <th>Hillshade_Noon</th>\n",
       "      <th>Horizontal_Distance_To_Fire_Points</th>\n",
       "      <th>Horizontal_Distance_To_Hydrology</th>\n",
       "      <th>Horizontal_Distance_To_Roadways</th>\n",
       "      <th>Id</th>\n",
       "      <th>Slope</th>\n",
       "      <th>...</th>\n",
       "      <th>Soil_Type5</th>\n",
       "      <th>Soil_Type6</th>\n",
       "      <th>Soil_Type7</th>\n",
       "      <th>Soil_Type8</th>\n",
       "      <th>Soil_Type9</th>\n",
       "      <th>Vertical_Distance_To_Hydrology</th>\n",
       "      <th>Wilderness_Area1</th>\n",
       "      <th>Wilderness_Area2</th>\n",
       "      <th>Wilderness_Area3</th>\n",
       "      <th>Wilderness_Area4</th>\n",
       "    </tr>\n",
       "    <tr>\n",
       "      <th>Cover_Type</th>\n",
       "      <th></th>\n",
       "      <th></th>\n",
       "      <th></th>\n",
       "      <th></th>\n",
       "      <th></th>\n",
       "      <th></th>\n",
       "      <th></th>\n",
       "      <th></th>\n",
       "      <th></th>\n",
       "      <th></th>\n",
       "      <th></th>\n",
       "      <th></th>\n",
       "      <th></th>\n",
       "      <th></th>\n",
       "      <th></th>\n",
       "      <th></th>\n",
       "      <th></th>\n",
       "      <th></th>\n",
       "      <th></th>\n",
       "      <th></th>\n",
       "      <th></th>\n",
       "    </tr>\n",
       "  </thead>\n",
       "  <tbody>\n",
       "    <tr>\n",
       "      <th>1</th>\n",
       "      <td>159.463426</td>\n",
       "      <td>3128.025926</td>\n",
       "      <td>144.065741</td>\n",
       "      <td>211.690278</td>\n",
       "      <td>223.248611</td>\n",
       "      <td>1994.412963</td>\n",
       "      <td>271.507407</td>\n",
       "      <td>2579.715741</td>\n",
       "      <td>7996.077778</td>\n",
       "      <td>13.112963</td>\n",
       "      <td>...</td>\n",
       "      <td>0.000000</td>\n",
       "      <td>0.000000</td>\n",
       "      <td>0</td>\n",
       "      <td>0.000000</td>\n",
       "      <td>0.000463</td>\n",
       "      <td>41.281481</td>\n",
       "      <td>0.491667</td>\n",
       "      <td>0.083796</td>\n",
       "      <td>0.424537</td>\n",
       "      <td>0.000000</td>\n",
       "    </tr>\n",
       "    <tr>\n",
       "      <th>2</th>\n",
       "      <td>151.097222</td>\n",
       "      <td>2922.540278</td>\n",
       "      <td>142.950926</td>\n",
       "      <td>214.044444</td>\n",
       "      <td>225.369907</td>\n",
       "      <td>2155.277315</td>\n",
       "      <td>287.728704</td>\n",
       "      <td>2425.791667</td>\n",
       "      <td>6312.696759</td>\n",
       "      <td>13.423611</td>\n",
       "      <td>...</td>\n",
       "      <td>0.000000</td>\n",
       "      <td>0.003241</td>\n",
       "      <td>0</td>\n",
       "      <td>0.000463</td>\n",
       "      <td>0.004167</td>\n",
       "      <td>47.337963</td>\n",
       "      <td>0.525000</td>\n",
       "      <td>0.030556</td>\n",
       "      <td>0.435185</td>\n",
       "      <td>0.009259</td>\n",
       "    </tr>\n",
       "    <tr>\n",
       "      <th>3</th>\n",
       "      <td>173.672685</td>\n",
       "      <td>2398.423148</td>\n",
       "      <td>141.549537</td>\n",
       "      <td>201.655556</td>\n",
       "      <td>216.561111</td>\n",
       "      <td>916.909722</td>\n",
       "      <td>210.723148</td>\n",
       "      <td>969.595833</td>\n",
       "      <td>8127.537500</td>\n",
       "      <td>20.628704</td>\n",
       "      <td>...</td>\n",
       "      <td>0.025463</td>\n",
       "      <td>0.114815</td>\n",
       "      <td>0</td>\n",
       "      <td>0.000000</td>\n",
       "      <td>0.000000</td>\n",
       "      <td>64.081944</td>\n",
       "      <td>0.000000</td>\n",
       "      <td>0.000000</td>\n",
       "      <td>0.399537</td>\n",
       "      <td>0.600463</td>\n",
       "    </tr>\n",
       "    <tr>\n",
       "      <th>4</th>\n",
       "      <td>138.099537</td>\n",
       "      <td>2223.420370</td>\n",
       "      <td>111.808796</td>\n",
       "      <td>227.968056</td>\n",
       "      <td>216.889815</td>\n",
       "      <td>860.540741</td>\n",
       "      <td>104.537500</td>\n",
       "      <td>915.100463</td>\n",
       "      <td>6354.585648</td>\n",
       "      <td>18.468519</td>\n",
       "      <td>...</td>\n",
       "      <td>0.018056</td>\n",
       "      <td>0.112963</td>\n",
       "      <td>0</td>\n",
       "      <td>0.000000</td>\n",
       "      <td>0.000000</td>\n",
       "      <td>40.143519</td>\n",
       "      <td>0.000000</td>\n",
       "      <td>0.000000</td>\n",
       "      <td>0.000000</td>\n",
       "      <td>1.000000</td>\n",
       "    </tr>\n",
       "    <tr>\n",
       "      <th>5</th>\n",
       "      <td>137.992130</td>\n",
       "      <td>2786.801389</td>\n",
       "      <td>121.392593</td>\n",
       "      <td>223.368981</td>\n",
       "      <td>218.317130</td>\n",
       "      <td>1530.388889</td>\n",
       "      <td>208.873148</td>\n",
       "      <td>1329.318519</td>\n",
       "      <td>6486.800463</td>\n",
       "      <td>16.724537</td>\n",
       "      <td>...</td>\n",
       "      <td>0.000000</td>\n",
       "      <td>0.000000</td>\n",
       "      <td>0</td>\n",
       "      <td>0.000000</td>\n",
       "      <td>0.000000</td>\n",
       "      <td>50.871296</td>\n",
       "      <td>0.396296</td>\n",
       "      <td>0.000000</td>\n",
       "      <td>0.603704</td>\n",
       "      <td>0.000000</td>\n",
       "    </tr>\n",
       "    <tr>\n",
       "      <th>6</th>\n",
       "      <td>180.617130</td>\n",
       "      <td>2423.276852</td>\n",
       "      <td>147.682407</td>\n",
       "      <td>193.562963</td>\n",
       "      <td>209.960648</td>\n",
       "      <td>1057.654167</td>\n",
       "      <td>160.095370</td>\n",
       "      <td>1064.980556</td>\n",
       "      <td>8061.305093</td>\n",
       "      <td>18.986111</td>\n",
       "      <td>...</td>\n",
       "      <td>0.032870</td>\n",
       "      <td>0.069907</td>\n",
       "      <td>0</td>\n",
       "      <td>0.000000</td>\n",
       "      <td>0.000000</td>\n",
       "      <td>44.873611</td>\n",
       "      <td>0.000000</td>\n",
       "      <td>0.000000</td>\n",
       "      <td>0.445370</td>\n",
       "      <td>0.554630</td>\n",
       "    </tr>\n",
       "    <tr>\n",
       "      <th>7</th>\n",
       "      <td>155.794444</td>\n",
       "      <td>3362.769907</td>\n",
       "      <td>136.193981</td>\n",
       "      <td>216.639815</td>\n",
       "      <td>222.412037</td>\n",
       "      <td>2062.847222</td>\n",
       "      <td>346.904630</td>\n",
       "      <td>2713.659722</td>\n",
       "      <td>9584.496759</td>\n",
       "      <td>14.166667</td>\n",
       "      <td>...</td>\n",
       "      <td>0.000000</td>\n",
       "      <td>0.000000</td>\n",
       "      <td>0</td>\n",
       "      <td>0.000000</td>\n",
       "      <td>0.000000</td>\n",
       "      <td>68.945833</td>\n",
       "      <td>0.252315</td>\n",
       "      <td>0.116667</td>\n",
       "      <td>0.631019</td>\n",
       "      <td>0.000000</td>\n",
       "    </tr>\n",
       "  </tbody>\n",
       "</table>\n",
       "<p>7 rows × 55 columns</p>\n",
       "</div>"
      ],
      "text/plain": [
       "                Aspect    Elevation  Hillshade_3pm  Hillshade_9am  \\\n",
       "Cover_Type                                                          \n",
       "1           159.463426  3128.025926     144.065741     211.690278   \n",
       "2           151.097222  2922.540278     142.950926     214.044444   \n",
       "3           173.672685  2398.423148     141.549537     201.655556   \n",
       "4           138.099537  2223.420370     111.808796     227.968056   \n",
       "5           137.992130  2786.801389     121.392593     223.368981   \n",
       "6           180.617130  2423.276852     147.682407     193.562963   \n",
       "7           155.794444  3362.769907     136.193981     216.639815   \n",
       "\n",
       "            Hillshade_Noon  Horizontal_Distance_To_Fire_Points  \\\n",
       "Cover_Type                                                       \n",
       "1               223.248611                         1994.412963   \n",
       "2               225.369907                         2155.277315   \n",
       "3               216.561111                          916.909722   \n",
       "4               216.889815                          860.540741   \n",
       "5               218.317130                         1530.388889   \n",
       "6               209.960648                         1057.654167   \n",
       "7               222.412037                         2062.847222   \n",
       "\n",
       "            Horizontal_Distance_To_Hydrology  Horizontal_Distance_To_Roadways  \\\n",
       "Cover_Type                                                                      \n",
       "1                                 271.507407                      2579.715741   \n",
       "2                                 287.728704                      2425.791667   \n",
       "3                                 210.723148                       969.595833   \n",
       "4                                 104.537500                       915.100463   \n",
       "5                                 208.873148                      1329.318519   \n",
       "6                                 160.095370                      1064.980556   \n",
       "7                                 346.904630                      2713.659722   \n",
       "\n",
       "                     Id      Slope  ...  Soil_Type5  Soil_Type6  Soil_Type7  \\\n",
       "Cover_Type                          ...                                       \n",
       "1           7996.077778  13.112963  ...    0.000000    0.000000           0   \n",
       "2           6312.696759  13.423611  ...    0.000000    0.003241           0   \n",
       "3           8127.537500  20.628704  ...    0.025463    0.114815           0   \n",
       "4           6354.585648  18.468519  ...    0.018056    0.112963           0   \n",
       "5           6486.800463  16.724537  ...    0.000000    0.000000           0   \n",
       "6           8061.305093  18.986111  ...    0.032870    0.069907           0   \n",
       "7           9584.496759  14.166667  ...    0.000000    0.000000           0   \n",
       "\n",
       "            Soil_Type8  Soil_Type9  Vertical_Distance_To_Hydrology  \\\n",
       "Cover_Type                                                           \n",
       "1             0.000000    0.000463                       41.281481   \n",
       "2             0.000463    0.004167                       47.337963   \n",
       "3             0.000000    0.000000                       64.081944   \n",
       "4             0.000000    0.000000                       40.143519   \n",
       "5             0.000000    0.000000                       50.871296   \n",
       "6             0.000000    0.000000                       44.873611   \n",
       "7             0.000000    0.000000                       68.945833   \n",
       "\n",
       "            Wilderness_Area1  Wilderness_Area2  Wilderness_Area3  \\\n",
       "Cover_Type                                                         \n",
       "1                   0.491667          0.083796          0.424537   \n",
       "2                   0.525000          0.030556          0.435185   \n",
       "3                   0.000000          0.000000          0.399537   \n",
       "4                   0.000000          0.000000          0.000000   \n",
       "5                   0.396296          0.000000          0.603704   \n",
       "6                   0.000000          0.000000          0.445370   \n",
       "7                   0.252315          0.116667          0.631019   \n",
       "\n",
       "            Wilderness_Area4  \n",
       "Cover_Type                    \n",
       "1                   0.000000  \n",
       "2                   0.009259  \n",
       "3                   0.600463  \n",
       "4                   1.000000  \n",
       "5                   0.000000  \n",
       "6                   0.554630  \n",
       "7                   0.000000  \n",
       "\n",
       "[7 rows x 55 columns]"
      ]
     },
     "execution_count": 5,
     "metadata": {},
     "output_type": "execute_result"
    }
   ],
   "source": [
    "df_train_pt = df_train.pivot_table(df_train.columns,\n",
    "               ['Cover_Type'], aggfunc='mean')\n",
    "df_train_pt"
   ]
  },
  {
   "cell_type": "markdown",
   "id": "reasonable-abuse",
   "metadata": {},
   "source": [
    "In the data we can see that:\n",
    "- training dataset has 15120 entries and 56 columns\n",
    "- there are no missing values\n",
    "- there do not appear to be any duplicates\n",
    "- data values are unscaled\n",
    "- Wilderness_Area and Soil_Type columns have binary values (0,1)\n",
    "- each row is assigned to one distinct Wilderness Area column\n",
    "- each row is assigned to one distinct Soil Type column\n",
    "- Vertical_Distance_To_Hydrology contains negative values (ex. if the location is at a lower elevation than the water source)\n",
    "- the data is evenly distributed between each Cover Type, with 2,160 rows each\n",
    "\n",
    "Cover_Type is our target column."
   ]
  },
  {
   "cell_type": "code",
   "execution_count": 6,
   "id": "solid-routine",
   "metadata": {},
   "outputs": [],
   "source": [
    "# This creates a dataset for EDA manipulation\n",
    "df_eda = df_train.copy()\n",
    "\n",
    "# This creates 2 new columns that summarize the Wilderness Area and Soil Type columns for ease of visualization\n",
    "df_eda['Wilderness_Area'] = df_eda.iloc[:,11:15].idxmax(axis=1).str.replace('Wilderness_Area','')\n",
    "df_eda['Soil_Type'] = df_eda.iloc[:,16:55].idxmax(axis=1).str.replace('Soil_Type','')"
   ]
  },
  {
   "cell_type": "markdown",
   "id": "passive-watson",
   "metadata": {},
   "source": [
    "As seen in the next plot, the distribution is skewed across Wilderness Area."
   ]
  },
  {
   "cell_type": "code",
   "execution_count": 8,
   "id": "outdoor-essex",
   "metadata": {},
   "outputs": [
    {
     "data": {
      "text/plain": [
       "<matplotlib.axes._subplots.AxesSubplot at 0x7fd8637c9f50>"
      ]
     },
     "execution_count": 8,
     "metadata": {},
     "output_type": "execute_result"
    },
    {
     "data": {
      "image/png": "[encoded data removed]",
      "text/plain": [
       "<Figure size 432x288 with 1 Axes>"
      ]
     },
     "metadata": {
      "needs_background": "light"
     },
     "output_type": "display_data"
    }
   ],
   "source": [
    "sn.histplot(data=df_eda, x='Wilderness_Area')"
   ]
  },
  {
   "cell_type": "markdown",
   "id": "elder-wright",
   "metadata": {},
   "source": [
    "We see that Elevation varies significantly for the different types of Cover and across Wilderness Areas."
   ]
  },
  {
   "cell_type": "code",
   "execution_count": 9,
   "id": "lyric-parcel",
   "metadata": {},
   "outputs": [
    {
     "data": {
      "text/plain": [
       "<matplotlib.axes._subplots.AxesSubplot at 0x7fd862cdb050>"
      ]
     },
     "execution_count": 9,
     "metadata": {},
     "output_type": "execute_result"
    },
    {
     "data": {
      "image/png": "[encoded data removed]",
      "text/plain": [
       "<Figure size 432x288 with 1 Axes>"
      ]
     },
     "metadata": {
      "needs_background": "light"
     },
     "output_type": "display_data"
    }
   ],
   "source": [
    "sn.boxplot(data=df_eda, x='Cover_Type', y='Elevation')"
   ]
  },
  {
   "cell_type": "code",
   "execution_count": 10,
   "id": "mathematical-district",
   "metadata": {},
   "outputs": [
    {
     "data": {
      "text/plain": [
       "<matplotlib.axes._subplots.AxesSubplot at 0x7fd865460190>"
      ]
     },
     "execution_count": 10,
     "metadata": {},
     "output_type": "execute_result"
    },
    {
     "data": {
      "image/png": "[encoded data removed]",
      "text/plain": [
       "<Figure size 432x288 with 1 Axes>"
      ]
     },
     "metadata": {
      "needs_background": "light"
     },
     "output_type": "display_data"
    }
   ],
   "source": [
    "sn.boxplot(data=df_eda, x='Wilderness_Area', y='Elevation')"
   ]
  },
  {
   "cell_type": "markdown",
   "id": "harmful-incidence",
   "metadata": {},
   "source": [
    "Slope and Aspect appear to be similar across the Cover Types."
   ]
  },
  {
   "cell_type": "code",
   "execution_count": 11,
   "id": "ranking-mayor",
   "metadata": {},
   "outputs": [
    {
     "data": {
      "text/plain": [
       "<matplotlib.axes._subplots.AxesSubplot at 0x7fd86478d850>"
      ]
     },
     "execution_count": 11,
     "metadata": {},
     "output_type": "execute_result"
    },
    {
     "data": {
      "image/png": "[encoded data removed]",
      "text/plain": [
       "<Figure size 432x288 with 1 Axes>"
      ]
     },
     "metadata": {
      "needs_background": "light"
     },
     "output_type": "display_data"
    }
   ],
   "source": [
    "sn.boxplot(data=df_eda, x='Cover_Type', y='Slope')"
   ]
  },
  {
   "cell_type": "code",
   "execution_count": 12,
   "id": "mounted-heading",
   "metadata": {},
   "outputs": [
    {
     "data": {
      "text/plain": [
       "<matplotlib.axes._subplots.AxesSubplot at 0x7fd863b35ed0>"
      ]
     },
     "execution_count": 12,
     "metadata": {},
     "output_type": "execute_result"
    },
    {
     "data": {
      "image/png": "[encoded data removed]",
      "text/plain": [
       "<Figure size 432x288 with 1 Axes>"
      ]
     },
     "metadata": {
      "needs_background": "light"
     },
     "output_type": "display_data"
    }
   ],
   "source": [
    "sn.boxplot(data=df_eda, x='Cover_Type', y='Aspect')"
   ]
  },
  {
   "cell_type": "code",
   "execution_count": 13,
   "id": "spiritual-victorian",
   "metadata": {},
   "outputs": [
    {
     "data": {
      "text/plain": [
       "<matplotlib.axes._subplots.AxesSubplot at 0x7fd864a3cb50>"
      ]
     },
     "execution_count": 13,
     "metadata": {},
     "output_type": "execute_result"
    },
    {
     "data": {
      "image/png": "[encoded data removed]",
      "text/plain": [
       "<Figure size 432x288 with 2 Axes>"
      ]
     },
     "metadata": {
      "needs_background": "light"
     },
     "output_type": "display_data"
    }
   ],
   "source": [
    "small_eda = df_eda.iloc[:,1:14]\n",
    "small_eda['Cover_Type'] = df_eda['Cover_Type']\n",
    "sn.heatmap(small_eda.corr(), center=0)"
   ]
  },
  {
   "cell_type": "markdown",
   "id": "underlying-trustee",
   "metadata": {},
   "source": [
    "## Feature: Cover_Type & Wilderness_Areas"
   ]
  },
  {
   "cell_type": "code",
   "execution_count": 15,
   "id": "interstate-special",
   "metadata": {},
   "outputs": [
    {
     "data": {
      "image/png": "[encoded data removed]",
      "text/plain": [
       "<Figure size 1080x432 with 1 Axes>"
      ]
     },
     "metadata": {
      "needs_background": "light"
     },
     "output_type": "display_data"
    }
   ],
   "source": [
    "plt.figure(figsize=(15,6))   \n",
    "order = [\"1\",\"2\",\"3\",\"4\"]\n",
    "ax = sn.countplot(x= \"Wilderness_Area\", hue = \"Cover_Type\", data = df_eda, order=order)\n",
    "ax.set_xlabel(\"Wilderness Area\",fontsize=12)\n",
    "ax.set_ylabel(\"Count\",fontsize=12)\n",
    "plt.legend(title=\"Cover Type\", loc='upper left',fontsize=12)\n",
    "plt.show()"
   ]
  },
  {
   "cell_type": "markdown",
   "id": "fifteen-expansion",
   "metadata": {},
   "source": [
    "Some cover types only belong specific wilderness areas, in this case wilderness areas could be a significant variables in the predictive model."
   ]
  },
  {
   "cell_type": "markdown",
   "id": "actual-swimming",
   "metadata": {},
   "source": [
    "## Data Transformations"
   ]
  },
  {
   "cell_type": "code",
   "execution_count": 16,
   "id": "minus-broadway",
   "metadata": {},
   "outputs": [],
   "source": [
    "# normalization\n",
    "from sklearn.preprocessing import normalize\n",
    "\n",
    "col_normalize = ['Aspect','Slope','Horizontal_Distance_To_Hydrology','Vertical_Distance_To_Hydrology', 'Hillshade_9am','Hillshade_Noon','Hillshade_3pm','Horizontal_Distance_To_Fire_Points']\n",
    "df_train_norm = df_train.copy()\n",
    "df_train_norm[col_normalize] = normalize(df_train[col_normalize])"
   ]
  },
  {
   "cell_type": "markdown",
   "id": "demonstrated-allocation",
   "metadata": {},
   "source": [
    "\n",
    "\n",
    "to be completed\n",
    "\n",
    "copy from Sharon/Vish/Kevin notebooks for EDA modeling examples \n",
    "\n",
    "                 - WITHOUT TRAINING RESULTS \n",
    "                 - THIS IS JUST FOR PCA/Feature Selection\n",
    "        \n",
    "        \n",
    "        "
   ]
  },
  {
   "cell_type": "markdown",
   "id": "aerial-galaxy",
   "metadata": {},
   "source": [
    "# Hypothesis"
   ]
  },
  {
   "cell_type": "markdown",
   "id": "exciting-husband",
   "metadata": {},
   "source": [
    "Based on the EDA, we believe that a Decision Tree approach will yield the best classification results and also serve as the basis for a good predictor on the test dataset.\n",
    "\n",
    "One features is strongly linked to a specific Cover Type:  Cover Type 4 is only found in Wilderness Area 4.  However there is significant overlap of other features for all Cover Types and Wildnerness Areas.  This suggests that a strategy using smaller Decision Trees to classify sub-groupings of features will be effective."
   ]
  },
  {
   "cell_type": "markdown",
   "id": "exotic-registrar",
   "metadata": {},
   "source": [
    "# Modeling"
   ]
  },
  {
   "cell_type": "markdown",
   "id": "duplicate-transport",
   "metadata": {},
   "source": [
    "There are many models we can test, including:\n",
    "- Decision Tree\n",
    "- Random Forest\n",
    "- XGBoost\n",
    "- Neural Network\n",
    "- etc.\n",
    "\n",
    "This first pass will examine RandomForest against the Training dataset, using random sampling to extract a sub-training set and then evaluating performance of the trained classifier against the remaining data in the training data.  \n",
    "\n",
    "This way we avoid touching the true Testing dataset until we are satisfied that our model performs as expected and should also generalize."
   ]
  },
  {
   "cell_type": "code",
   "execution_count": 17,
   "id": "desirable-bench",
   "metadata": {},
   "outputs": [],
   "source": [
    "from sklearn.ensemble import RandomForestClassifier\n",
    "from sklearn.tree import DecisionTreeClassifier\n",
    "\n",
    "from sklearn.metrics import accuracy_score, plot_confusion_matrix, confusion_matrix as cm\n",
    "from sklearn.model_selection import train_test_split\n",
    "from sklearn import model_selection"
   ]
  },
  {
   "cell_type": "code",
   "execution_count": 18,
   "id": "weird-aquatic",
   "metadata": {},
   "outputs": [],
   "source": [
    "np.set_printoptions(precision=5)\n",
    "def score_model(model,df, return_val=False, return_train=False, display=True, return_acc=False, return_time=False, show_weights=False):\n",
    "    X , Y = df.drop(columns=['Id','Cover_Type']).to_numpy(), df.Cover_Type.to_numpy()\n",
    "    X_train, X_val, y_train, y_val = train_test_split(X, Y, test_size=.33, random_state=0)\n",
    "    start = time.time()\n",
    "    results = model_selection.cross_val_score(model, X, Y, cv=kfold)\n",
    "    model.fit(X_train, y_train)\n",
    "    pred = model.predict(X_val)\n",
    "    acc = accuracy_score(y_val, pred)\n",
    "    end = time.time()\n",
    "    print('\\nModel:',type(model).__name__)\n",
    "    print('\\tcv acc:', round(results.mean(),4))\n",
    "    print('\\tsplit acc:', round(acc,4))\n",
    "    print('\\ttime taken:', round(end-start, 4))\n",
    "    if display:\n",
    "        matrix = cm(y_val, pred)\n",
    "        print('\\t', matrix.diagonal() / matrix.sum(axis=1))\n",
    "\n",
    "        disp = plot_confusion_matrix(model, X_val, y_val, display_labels=set(y_train), cmap=plt.cm.Blues, normalize='true')\n",
    "        plt.show()\n",
    "    \n",
    "    if show_weights:\n",
    "        for w,k in sorted(list(zip(model.feature_importances_, df.drop(columns=['Id','Cover_Type']).columns)), key=lambda x: x[0]):\n",
    "            print(k,w)\n",
    "            \n",
    "    # return all data\n",
    "    return_data = [model]\n",
    "    if return_train:\n",
    "        return_data += [X_train, y_train]\n",
    "    if return_val:\n",
    "        return_data += [X_val, y_val]\n",
    "    if return_acc:\n",
    "        return_data += [acc]\n",
    "    if return_time:\n",
    "        return_data += [end-start]\n",
    "    return tuple(return_data)"
   ]
  },
  {
   "cell_type": "code",
   "execution_count": 19,
   "id": "worse-norfolk",
   "metadata": {},
   "outputs": [],
   "source": [
    "kfold = model_selection.KFold(n_splits=10, random_state=0, shuffle=True)"
   ]
  },
  {
   "cell_type": "code",
   "execution_count": 22,
   "id": "radio-playlist",
   "metadata": {},
   "outputs": [
    {
     "name": "stdout",
     "output_type": "stream",
     "text": [
      "\n",
      "Model: DecisionTreeClassifier\n",
      "\tcv acc: 0.7877\n",
      "\tsplit acc: 0.7727\n",
      "\ttime taken: 1.4429\n",
      "\t [0.65199 0.58582 0.74491 0.91457 0.8653  0.73978 0.90884]\n"
     ]
    },
    {
     "data": {
      "image/png": "[encoded data removed]",
      "text/plain": [
       "<Figure size 432x288 with 2 Axes>"
      ]
     },
     "metadata": {
      "needs_background": "light"
     },
     "output_type": "display_data"
    },
    {
     "name": "stdout",
     "output_type": "stream",
     "text": [
      "\n",
      "Model: RandomForestClassifier\n",
      "\tcv acc: 0.8743\n",
      "\tsplit acc: 0.8539\n",
      "\ttime taken: 8.7009\n",
      "\t [0.75852 0.68369 0.83446 0.96078 0.9429  0.83106 0.96774]\n"
     ]
    },
    {
     "data": {
      "image/png": "[encoded data removed]",
      "text/plain": [
       "<Figure size 432x288 with 2 Axes>"
      ]
     },
     "metadata": {
      "needs_background": "light"
     },
     "output_type": "display_data"
    }
   ],
   "source": [
    "models = []\n",
    "for clf in [\n",
    "    DecisionTreeClassifier(max_depth=14, random_state=0), # 14 was determine by iterating\n",
    "    RandomForestClassifier(n_jobs=-1, random_state=0),]:\n",
    "    \n",
    "    models.append(score_model(clf,df_train_norm))"
   ]
  },
  {
   "cell_type": "markdown",
   "id": "tough-eleven",
   "metadata": {},
   "source": [
    "RandomForest performs much better than the DecisionTree Classifier.\n",
    "\n",
    "Next we will examine the ExtraTreesClassifier."
   ]
  },
  {
   "cell_type": "code",
   "execution_count": 24,
   "id": "quarterly-chile",
   "metadata": {},
   "outputs": [
    {
     "name": "stdout",
     "output_type": "stream",
     "text": [
      "\n",
      "Model: ExtraTreesClassifier\n",
      "\tcv acc: 0.8849\n",
      "\tsplit acc: 0.8693\n",
      "\ttime taken: 8.9207\n",
      "\t [0.74858 0.73901 0.85075 0.96779 0.95608 0.85695 0.96774]\n"
     ]
    },
    {
     "data": {
      "image/png": "[encoded data removed]",
      "text/plain": [
       "<Figure size 432x288 with 2 Axes>"
      ]
     },
     "metadata": {
      "needs_background": "light"
     },
     "output_type": "display_data"
    }
   ],
   "source": [
    "# Determining RF model - ExtraTreesClassifier\n",
    "\n",
    "models.append(score_model(ExtraTreesClassifier(n_jobs=-1, random_state=0),df_train_norm))"
   ]
  },
  {
   "cell_type": "markdown",
   "id": "vocational-drilling",
   "metadata": {},
   "source": [
    "The ExtraTrees Classifier improved upon the performance of RandomForest for several categories."
   ]
  },
  {
   "cell_type": "markdown",
   "id": "acoustic-channel",
   "metadata": {},
   "source": [
    "# Current Status\n",
    "\n",
    "After normalization, we can see the weaknesses of our 'ExtraTrees' model is the cluster involving Cover Type '1' and '2'. We will focus now on optimizing our model to better classify this smaller cluster and to get our cv accuracy at 90%+.\n"
   ]
  },
  {
   "cell_type": "markdown",
   "id": "urban-banks",
   "metadata": {},
   "source": [
    "work in progress"
   ]
  },
  {
   "cell_type": "code",
   "execution_count": 40,
   "id": "saving-roman",
   "metadata": {},
   "outputs": [
    {
     "name": "stdout",
     "output_type": "stream",
     "text": [
      "\n",
      "Model: ExtraTreesClassifier\n",
      "\tcv acc: 0.8901\n",
      "\tsplit acc: 0.8723\n",
      "\ttime taken: 15.2719\n",
      "\t [0.7642  0.72057 0.86839 0.96779 0.95461 0.85967 0.97195]\n"
     ]
    },
    {
     "data": {
      "image/png": "[encoded data removed]",
      "text/plain": [
       "<Figure size 432x288 with 2 Axes>"
      ]
     },
     "metadata": {
      "needs_background": "light"
     },
     "output_type": "display_data"
    }
   ],
   "source": [
    "col_normalize = ['Aspect','Slope','Horizontal_Distance_To_Hydrology','Vertical_Distance_To_Hydrology', \n",
    "                 'Hillshade_9am','Hillshade_Noon','Hillshade_3pm','Horizontal_Distance_To_Fire_Points',\n",
    "                 'Horizontal_Distance_To_Roadways']\n",
    "df_train_norm = df_train.copy()\n",
    "df_train_norm[col_normalize] = normalize(df_train[col_normalize])\n",
    "df_train_norm['log_Horizontal_Distance_To_Roadways'] = (df_train['Horizontal_Distance_To_Roadways']+1).apply(np.log)\n",
    "best_m, best_X_train, best_y_train, best_X_val, best_y_val = score_model(ExtraTreesClassifier(n_jobs=-1, random_state=0), df_train_norm, return_train = True, return_val = True)"
   ]
  },
  {
   "cell_type": "code",
   "execution_count": null,
   "id": "quarterly-september",
   "metadata": {},
   "outputs": [],
   "source": []
  }
 ],
 "metadata": {
  "kernelspec": {
   "display_name": "Python 3",
   "language": "python",
   "name": "python3"
  },
  "language_info": {
   "codemirror_mode": {
    "name": "ipython",
    "version": 3
   },
   "file_extension": ".py",
   "mimetype": "text/x-python",
   "name": "python",
   "nbconvert_exporter": "python",
   "pygments_lexer": "ipython3",
   "version": "3.7.4"
  }
 },
 "nbformat": 4,
 "nbformat_minor": 5
}
