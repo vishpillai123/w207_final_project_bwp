{
 "cells": [
  {
   "cell_type": "markdown",
   "metadata": {},
   "source": [
    "# Forest Cover Type Prediction \n",
    "\n",
    "**The goal of the Project**: to predict seven different cover types in four different wilderness areas of the Roosevelt National Forest of Northern Colorado with the best accuracy.\n",
    "\n"
   ]
  },
  {
   "cell_type": "markdown",
   "metadata": {},
   "source": [
    "# Sections\n",
    "\n",
    "- [1. EDA](#1)\n",
    "- [2. Feature Engineering](#2)\n",
    "- [3. Building Model](#3)\n",
    "    - [3.1 K-Nearest Neighbors](#4)\n",
    "    - [3.2 Decision Tree](#5)\n",
    "    - [3.3 Random Forest](#6)\n",
    "    - [3.4 Extra Tree](#7)\n",
    "    - [3.5 PCA](#8)"
   ]
  },
  {
   "cell_type": "code",
   "execution_count": 49,
   "metadata": {},
   "outputs": [],
   "source": [
    "# load the package\n",
    "import warnings\n",
    "warnings.simplefilter('ignore')\n",
    "import pandas as pd\n",
    "import numpy as np\n",
    "import matplotlib.pyplot as plt\n",
    "import seaborn as sns\n",
    "from pprint import pprint # data better printer\n",
    "\n",
    "from sklearn import tree\n",
    "from sklearn.neighbors import KNeighborsClassifier\n",
    "\n",
    "from sklearn.model_selection import KFold #cross validation\n",
    "\n",
    "# for feature scaling\n",
    "from sklearn.preprocessing import StandardScaler\n",
    "from sklearn.preprocessing import MinMaxScaler\n",
    "from sklearn.preprocessing import RobustScaler\n",
    "from sklearn.preprocessing import normalize\n",
    "from sklearn.decomposition import PCA\n",
    "\n",
    "# tree models\n",
    "from sklearn.tree import DecisionTreeClassifier,export_graphviz\n",
    "from sklearn.ensemble import RandomForestClassifier\n",
    "from sklearn.ensemble import ExtraTreesClassifier\n",
    "\n",
    "#hyperparameter search\n",
    "from sklearn.model_selection import RandomizedSearchCV\n",
    "from sklearn.model_selection import GridSearchCV\n",
    "\n",
    "#model validation\n",
    "from sklearn.model_selection import train_test_split, cross_val_score\n",
    "from sklearn.metrics import precision_score, recall_score, roc_auc_score, roc_curve,confusion_matrix, accuracy_score\n",
    "import sklearn.metrics as metrics\n",
    "from subprocess import call\n",
    "from IPython.display import Image\n",
    "\n",
    "# for plot the tree\n",
    "from sklearn.tree import plot_tree"
   ]
  },
  {
   "cell_type": "markdown",
   "metadata": {},
   "source": [
    "# 1. EDA  <a id =\"1\"></a>"
   ]
  },
  {
   "cell_type": "markdown",
   "metadata": {},
   "source": [
    "- ## Check for Anomalies & Outliers:"
   ]
  },
  {
   "cell_type": "code",
   "execution_count": 2,
   "metadata": {},
   "outputs": [],
   "source": [
    "# read the data\n",
    "train = pd.read_csv('train.csv')\n",
    "test= pd.read_csv('test.csv')"
   ]
  },
  {
   "cell_type": "code",
   "execution_count": 3,
   "metadata": {},
   "outputs": [
    {
     "name": "stdout",
     "output_type": "stream",
     "text": [
      "<class 'pandas.core.frame.DataFrame'>\n",
      "RangeIndex: 15120 entries, 0 to 15119\n",
      "Data columns (total 56 columns):\n",
      " #   Column                              Non-Null Count  Dtype\n",
      "---  ------                              --------------  -----\n",
      " 0   Id                                  15120 non-null  int64\n",
      " 1   Elevation                           15120 non-null  int64\n",
      " 2   Aspect                              15120 non-null  int64\n",
      " 3   Slope                               15120 non-null  int64\n",
      " 4   Horizontal_Distance_To_Hydrology    15120 non-null  int64\n",
      " 5   Vertical_Distance_To_Hydrology      15120 non-null  int64\n",
      " 6   Horizontal_Distance_To_Roadways     15120 non-null  int64\n",
      " 7   Hillshade_9am                       15120 non-null  int64\n",
      " 8   Hillshade_Noon                      15120 non-null  int64\n",
      " 9   Hillshade_3pm                       15120 non-null  int64\n",
      " 10  Horizontal_Distance_To_Fire_Points  15120 non-null  int64\n",
      " 11  Wilderness_Area1                    15120 non-null  int64\n",
      " 12  Wilderness_Area2                    15120 non-null  int64\n",
      " 13  Wilderness_Area3                    15120 non-null  int64\n",
      " 14  Wilderness_Area4                    15120 non-null  int64\n",
      " 15  Soil_Type1                          15120 non-null  int64\n",
      " 16  Soil_Type2                          15120 non-null  int64\n",
      " 17  Soil_Type3                          15120 non-null  int64\n",
      " 18  Soil_Type4                          15120 non-null  int64\n",
      " 19  Soil_Type5                          15120 non-null  int64\n",
      " 20  Soil_Type6                          15120 non-null  int64\n",
      " 21  Soil_Type7                          15120 non-null  int64\n",
      " 22  Soil_Type8                          15120 non-null  int64\n",
      " 23  Soil_Type9                          15120 non-null  int64\n",
      " 24  Soil_Type10                         15120 non-null  int64\n",
      " 25  Soil_Type11                         15120 non-null  int64\n",
      " 26  Soil_Type12                         15120 non-null  int64\n",
      " 27  Soil_Type13                         15120 non-null  int64\n",
      " 28  Soil_Type14                         15120 non-null  int64\n",
      " 29  Soil_Type15                         15120 non-null  int64\n",
      " 30  Soil_Type16                         15120 non-null  int64\n",
      " 31  Soil_Type17                         15120 non-null  int64\n",
      " 32  Soil_Type18                         15120 non-null  int64\n",
      " 33  Soil_Type19                         15120 non-null  int64\n",
      " 34  Soil_Type20                         15120 non-null  int64\n",
      " 35  Soil_Type21                         15120 non-null  int64\n",
      " 36  Soil_Type22                         15120 non-null  int64\n",
      " 37  Soil_Type23                         15120 non-null  int64\n",
      " 38  Soil_Type24                         15120 non-null  int64\n",
      " 39  Soil_Type25                         15120 non-null  int64\n",
      " 40  Soil_Type26                         15120 non-null  int64\n",
      " 41  Soil_Type27                         15120 non-null  int64\n",
      " 42  Soil_Type28                         15120 non-null  int64\n",
      " 43  Soil_Type29                         15120 non-null  int64\n",
      " 44  Soil_Type30                         15120 non-null  int64\n",
      " 45  Soil_Type31                         15120 non-null  int64\n",
      " 46  Soil_Type32                         15120 non-null  int64\n",
      " 47  Soil_Type33                         15120 non-null  int64\n",
      " 48  Soil_Type34                         15120 non-null  int64\n",
      " 49  Soil_Type35                         15120 non-null  int64\n",
      " 50  Soil_Type36                         15120 non-null  int64\n",
      " 51  Soil_Type37                         15120 non-null  int64\n",
      " 52  Soil_Type38                         15120 non-null  int64\n",
      " 53  Soil_Type39                         15120 non-null  int64\n",
      " 54  Soil_Type40                         15120 non-null  int64\n",
      " 55  Cover_Type                          15120 non-null  int64\n",
      "dtypes: int64(56)\n",
      "memory usage: 6.5 MB\n"
     ]
    }
   ],
   "source": [
    "train.info()"
   ]
  },
  {
   "cell_type": "markdown",
   "metadata": {},
   "source": [
    "- Training dataset has 15120 entries and 56 columns with id. Dataset has no missing values and every column has a numeric (float or integer) data type.\n",
    "- Cover_Type is our target column. Wilderness_Area and Soil_Type columns might have binary values (0,1).\n",
    "\n"
   ]
  },
  {
   "cell_type": "markdown",
   "metadata": {},
   "source": [
    "- ## Check Outliers"
   ]
  },
  {
   "cell_type": "code",
   "execution_count": 4,
   "metadata": {},
   "outputs": [],
   "source": [
    "def outlier_function(df, col_name):\n",
    "    ''' this function detects first and third quartile and interquartile range for a given column of a dataframe\n",
    "    then calculates upper and lower limits to determine outliers conservatively\n",
    "    returns the number of lower and uper limit and number of outliers respectively\n",
    "    '''\n",
    "    first_quartile = np.percentile(np.array(df[col_name].tolist()), 25)\n",
    "    third_quartile = np.percentile(np.array(df[col_name].tolist()), 75)\n",
    "    IQR = third_quartile - first_quartile\n",
    "                      \n",
    "    upper_limit = third_quartile+(3*IQR)\n",
    "    lower_limit = first_quartile-(3*IQR)\n",
    "    outlier_count = 0\n",
    "                      \n",
    "    for value in df[col_name].tolist():\n",
    "        if (value < lower_limit) | (value > upper_limit):\n",
    "            outlier_count +=1\n",
    "    return lower_limit, upper_limit, outlier_count"
   ]
  },
  {
   "cell_type": "code",
   "execution_count": 5,
   "metadata": {},
   "outputs": [
    {
     "name": "stdout",
     "output_type": "stream",
     "text": [
      "There are 53 outliers in Horizontal_Distance_To_Hydrology\n",
      "There are 49 outliers in Vertical_Distance_To_Hydrology\n",
      "There are 3 outliers in Horizontal_Distance_To_Roadways\n",
      "There are 7 outliers in Hillshade_9am\n",
      "There are 20 outliers in Hillshade_Noon\n",
      "There are 132 outliers in Horizontal_Distance_To_Fire_Points\n",
      "There are 3597 outliers in Wilderness_Area1\n",
      "There are 499 outliers in Wilderness_Area2\n",
      "There are 355 outliers in Soil_Type1\n",
      "There are 623 outliers in Soil_Type2\n",
      "There are 962 outliers in Soil_Type3\n",
      "There are 843 outliers in Soil_Type4\n",
      "There are 165 outliers in Soil_Type5\n",
      "There are 650 outliers in Soil_Type6\n",
      "There are 1 outliers in Soil_Type8\n",
      "There are 10 outliers in Soil_Type9\n",
      "There are 2142 outliers in Soil_Type10\n",
      "There are 406 outliers in Soil_Type11\n",
      "There are 227 outliers in Soil_Type12\n",
      "There are 476 outliers in Soil_Type13\n",
      "There are 169 outliers in Soil_Type14\n",
      "There are 114 outliers in Soil_Type16\n",
      "There are 612 outliers in Soil_Type17\n",
      "There are 60 outliers in Soil_Type18\n",
      "There are 46 outliers in Soil_Type19\n",
      "There are 139 outliers in Soil_Type20\n",
      "There are 16 outliers in Soil_Type21\n",
      "There are 345 outliers in Soil_Type22\n",
      "There are 757 outliers in Soil_Type23\n",
      "There are 257 outliers in Soil_Type24\n",
      "There are 1 outliers in Soil_Type25\n",
      "There are 54 outliers in Soil_Type26\n",
      "There are 15 outliers in Soil_Type27\n",
      "There are 9 outliers in Soil_Type28\n",
      "There are 1291 outliers in Soil_Type29\n",
      "There are 725 outliers in Soil_Type30\n",
      "There are 332 outliers in Soil_Type31\n",
      "There are 690 outliers in Soil_Type32\n",
      "There are 616 outliers in Soil_Type33\n",
      "There are 22 outliers in Soil_Type34\n",
      "There are 102 outliers in Soil_Type35\n",
      "There are 10 outliers in Soil_Type36\n",
      "There are 34 outliers in Soil_Type37\n",
      "There are 728 outliers in Soil_Type38\n",
      "There are 657 outliers in Soil_Type39\n",
      "There are 459 outliers in Soil_Type40\n"
     ]
    }
   ],
   "source": [
    "# loop through all columns to see if there are any outliers\n",
    "for column in train.columns:\n",
    "    if outlier_function(train, column)[2] > 0:\n",
    "        print(\"There are {} outliers in {}\".format(outlier_function(train, column)[2], column))"
   ]
  },
  {
   "cell_type": "markdown",
   "metadata": {},
   "source": [
    "- ## Check the important correlations between variables "
   ]
  },
  {
   "cell_type": "code",
   "execution_count": 6,
   "metadata": {},
   "outputs": [
    {
     "name": "stdout",
     "output_type": "stream",
     "text": [
      "Elevation and Wilderness_Area4 = -0.78\n",
      "Wilderness_Area4 and Elevation = -0.78\n",
      "Hillshade_9am and Hillshade_3pm = -0.78\n",
      "Hillshade_3pm and Hillshade_9am = -0.78\n",
      "Horizontal_Distance_To_Hydrology and Vertical_Distance_To_Hydrology = 0.65\n",
      "Vertical_Distance_To_Hydrology and Horizontal_Distance_To_Hydrology = 0.65\n",
      "Aspect and Hillshade_3pm = 0.64\n",
      "Hillshade_3pm and Aspect = 0.64\n",
      "Hillshade_Noon and Hillshade_3pm = 0.61\n",
      "Hillshade_3pm and Hillshade_Noon = 0.61\n",
      "Slope and Hillshade_Noon = -0.61\n",
      "Hillshade_Noon and Slope = -0.61\n",
      "Aspect and Hillshade_9am = -0.59\n",
      "Hillshade_9am and Aspect = -0.59\n",
      "Elevation and Horizontal_Distance_To_Roadways = 0.58\n",
      "Horizontal_Distance_To_Roadways and Elevation = 0.58\n",
      "Wilderness_Area3 and Wilderness_Area4 = -0.57\n",
      "Wilderness_Area4 and Wilderness_Area3 = -0.57\n",
      "Wilderness_Area1 and Soil_Type29 = 0.55\n",
      "Soil_Type29 and Wilderness_Area1 = 0.55\n"
     ]
    }
   ],
   "source": [
    "# Calculates pearson co-efficient for all combinations\n",
    "data_corr = train.corr()\n",
    "#get the names of all the columns\n",
    "cols=train.columns \n",
    "# Set the threshold to select only only highly correlated attributes\n",
    "threshold = 0.5\n",
    "# List of pairs along with correlation above threshold\n",
    "corr_list = []\n",
    "\n",
    "for i in range(len(data_corr)):\n",
    "    for j in range(1,len(data_corr)):\n",
    "        if (data_corr.iloc[i,j] >= threshold and data_corr.iloc[i,j] < 1) or (data_corr.iloc[i,j] < 0 and data_corr.iloc[i,j] <= -threshold):\n",
    "            corr_list.append([data_corr.iloc[i,j],i,j]) #store correlation and columns index\n",
    "\n",
    "#Sort to show higher ones first            \n",
    "sorted_corr_list = sorted(corr_list,key=lambda x: -abs(x[0]))\n",
    "\n",
    "#Print correlations and column names\n",
    "for v,i,j in sorted_corr_list:\n",
    "    print (\"%s and %s = %.2f\" % (cols[i],cols[j],v))"
   ]
  },
  {
   "cell_type": "markdown",
   "metadata": {},
   "source": [
    "- ## Feature: Wilderness_Area, Soil_Type "
   ]
  },
  {
   "cell_type": "code",
   "execution_count": 7,
   "metadata": {},
   "outputs": [
    {
     "name": "stdout",
     "output_type": "stream",
     "text": [
      "Wilderness_Area1         2\t [0, 1]\n",
      "Wilderness_Area2         2\t [0, 1]\n",
      "Wilderness_Area3         2\t [0, 1]\n",
      "Wilderness_Area4         2\t [0, 1]\n",
      "Soil_Type1               2\t [0, 1]\n",
      "Soil_Type2               2\t [0, 1]\n",
      "Soil_Type3               2\t [0, 1]\n",
      "Soil_Type4               2\t [0, 1]\n",
      "Soil_Type5               2\t [0, 1]\n",
      "Soil_Type6               2\t [0, 1]\n",
      "Soil_Type7               1\t [0]\n",
      "Soil_Type8               2\t [0, 1]\n",
      "Soil_Type9               2\t [0, 1]\n",
      "Soil_Type10              2\t [0, 1]\n",
      "Soil_Type11              2\t [0, 1]\n",
      "Soil_Type12              2\t [0, 1]\n",
      "Soil_Type13              2\t [0, 1]\n",
      "Soil_Type14              2\t [0, 1]\n",
      "Soil_Type15              1\t [0]\n",
      "Soil_Type16              2\t [0, 1]\n",
      "Soil_Type17              2\t [0, 1]\n",
      "Soil_Type18              2\t [0, 1]\n",
      "Soil_Type19              2\t [0, 1]\n",
      "Soil_Type20              2\t [0, 1]\n",
      "Soil_Type21              2\t [0, 1]\n",
      "Soil_Type22              2\t [0, 1]\n",
      "Soil_Type23              2\t [0, 1]\n",
      "Soil_Type24              2\t [0, 1]\n",
      "Soil_Type25              2\t [0, 1]\n",
      "Soil_Type26              2\t [0, 1]\n",
      "Soil_Type27              2\t [0, 1]\n",
      "Soil_Type28              2\t [0, 1]\n",
      "Soil_Type29              2\t [0, 1]\n",
      "Soil_Type30              2\t [0, 1]\n",
      "Soil_Type31              2\t [0, 1]\n",
      "Soil_Type32              2\t [0, 1]\n",
      "Soil_Type33              2\t [0, 1]\n",
      "Soil_Type34              2\t [0, 1]\n",
      "Soil_Type35              2\t [0, 1]\n",
      "Soil_Type36              2\t [0, 1]\n",
      "Soil_Type37              2\t [0, 1]\n",
      "Soil_Type38              2\t [0, 1]\n",
      "Soil_Type39              2\t [0, 1]\n",
      "Soil_Type40              2\t [0, 1]\n"
     ]
    }
   ],
   "source": [
    "columns_check=[column for column in train.columns if (\"Wilderness\" in column)|(\"Soil\" in column)]\n",
    "# variables in each feature\n",
    "for column in columns_check:\n",
    "    uniques = sorted(train[column].unique())\n",
    "    print('{0:20s} {1:5d}\\t'.format(column, len(uniques)), uniques[:5])"
   ]
  },
  {
   "cell_type": "markdown",
   "metadata": {},
   "source": [
    "Wilderness_Area & Soil_Type are binary variables, Soil_Type7 & Soil_Type15 only include value of 0"
   ]
  },
  {
   "cell_type": "markdown",
   "metadata": {},
   "source": [
    "- ## Feature: cover_type"
   ]
  },
  {
   "cell_type": "code",
   "execution_count": 8,
   "metadata": {},
   "outputs": [
    {
     "data": {
      "text/plain": [
       "Text(0.5, 1.0, 'Distribution of Cover_Types')"
      ]
     },
     "execution_count": 8,
     "metadata": {},
     "output_type": "execute_result"
    },
    {
     "data": {
      "image/png": "[encoded data removed]",
      "text/plain": [
       "<Figure size 432x288 with 1 Axes>"
      ]
     },
     "metadata": {
      "needs_background": "light"
     },
     "output_type": "display_data"
    }
   ],
   "source": [
    "g=sns.countplot(x='Cover_Type',data=train)\n",
    "\n",
    "# set title, legends and labels\n",
    "plt.xlabel(\"Cover_Type\")\n",
    "plt.ylabel(\"Count\")\n",
    "plt.title(\"Distribution of Cover_Types\", size=14)"
   ]
  },
  {
   "cell_type": "markdown",
   "metadata": {},
   "source": [
    "Distribution of cover types shows perfect uniform distribution.\n",
    "\n"
   ]
  },
  {
   "cell_type": "markdown",
   "metadata": {},
   "source": [
    "- ## Feature: Cover_Type & Wilderness_Areas"
   ]
  },
  {
   "cell_type": "code",
   "execution_count": 9,
   "metadata": {},
   "outputs": [
    {
     "data": {
      "image/png": "[encoded data removed]",
      "text/plain": [
       "<Figure size 1080x432 with 1 Axes>"
      ]
     },
     "metadata": {
      "needs_background": "light"
     },
     "output_type": "display_data"
    }
   ],
   "source": [
    "## Reverse One hot encoding to get a column for the Wilderness area\n",
    "train.loc[train[\"Wilderness_Area1\"]==1,\"Wilderness_Area\"] = \"Wilderness Area 1\"\n",
    "train.loc[train[\"Wilderness_Area2\"]==1,\"Wilderness_Area\"] = \"Wilderness Area 2\"\n",
    "train.loc[train[\"Wilderness_Area3\"]==1,\"Wilderness_Area\"] = \"Wilderness Area 3\"\n",
    "train.loc[train[\"Wilderness_Area4\"]==1,\"Wilderness_Area\"] = \"Wilderness Area 4\"\n",
    "## plot\n",
    "plt.figure(figsize=(15,6))   \n",
    "order = [\"Wilderness Area 1\",\"Wilderness Area 2\",\"Wilderness Area 3\",\"Wilderness Area 4\"]\n",
    "ax = sns.countplot(x= \"Wilderness_Area\", hue = \"Cover_Type\", data = train, order=order)\n",
    "ax.set_xlabel(\"Wilderness Area\",fontsize=12)\n",
    "ax.set_ylabel(\"Count\",fontsize=12)\n",
    "plt.legend(title=\"Cover Type\", loc='upper left',fontsize=12)\n",
    "plt.show()"
   ]
  },
  {
   "cell_type": "markdown",
   "metadata": {},
   "source": [
    "some cover types only belong specific wilderness areas, in this case wilderness areas could be a significant variables in the predictive model."
   ]
  },
  {
   "cell_type": "markdown",
   "metadata": {},
   "source": [
    "- ## Feature: Other continuous variables"
   ]
  },
  {
   "cell_type": "code",
   "execution_count": 10,
   "metadata": {},
   "outputs": [
    {
     "data": {
      "text/plain": [
       "Text(0, 0.5, 'Horizontal Distance To Roadways')"
      ]
     },
     "execution_count": 10,
     "metadata": {},
     "output_type": "execute_result"
    },
    {
     "data": {
      "image/png": "[encoded data removed]",
      "text/plain": [
       "<Figure size 432x288 with 1 Axes>"
      ]
     },
     "metadata": {
      "needs_background": "light"
     },
     "output_type": "display_data"
    }
   ],
   "source": [
    "ax = sns.boxplot(y=train['Horizontal_Distance_To_Roadways'], x=train['Cover_Type'])\n",
    "ax.set_title('Horizontal Distance To Roadways Distribution For Different Cover Type',fontsize=12)\n",
    "ax.set_xlabel(\"Cover Type\",fontsize=12)\n",
    "ax.set_ylabel(\"Horizontal Distance To Roadways\",fontsize=12)"
   ]
  },
  {
   "cell_type": "code",
   "execution_count": 11,
   "metadata": {},
   "outputs": [
    {
     "data": {
      "text/plain": [
       "Text(0, 0.5, 'Aspect')"
      ]
     },
     "execution_count": 11,
     "metadata": {},
     "output_type": "execute_result"
    },
    {
     "data": {
      "image/png": "[encoded data removed]",
      "text/plain": [
       "<Figure size 432x288 with 1 Axes>"
      ]
     },
     "metadata": {
      "needs_background": "light"
     },
     "output_type": "display_data"
    }
   ],
   "source": [
    "ax=sns.boxplot(y=train['Aspect'], x=train['Cover_Type'])\n",
    "ax.set_title('Aspect Distribution For Different Cover Type',fontsize=12)\n",
    "ax.set_xlabel(\"Cover Type\",fontsize=12)\n",
    "ax.set_ylabel(\"Aspect\",fontsize=12)"
   ]
  },
  {
   "cell_type": "markdown",
   "metadata": {},
   "source": [
    "Cover Type 4 \"Cottonwood/Willow\" has long tail distribution for \"Aspect\""
   ]
  },
  {
   "cell_type": "code",
   "execution_count": 12,
   "metadata": {},
   "outputs": [
    {
     "data": {
      "text/plain": [
       "Text(20.200000000000003, 0.5, 'Elevation')"
      ]
     },
     "execution_count": 12,
     "metadata": {},
     "output_type": "execute_result"
    },
    {
     "data": {
      "image/png": "[encoded data removed]",
      "text/plain": [
       "<Figure size 432x288 with 1 Axes>"
      ]
     },
     "metadata": {
      "needs_background": "light"
     },
     "output_type": "display_data"
    }
   ],
   "source": [
    "sns.boxplot(y=train['Elevation'], x=train['Cover_Type'])\n",
    "ax.set_title('Elevation Distribution For Different Cover Type',fontsize=12)\n",
    "ax.set_xlabel(\"Cover Type\",fontsize=12)\n",
    "ax.set_ylabel(\"Elevation\",fontsize=12)"
   ]
  },
  {
   "cell_type": "markdown",
   "metadata": {},
   "source": [
    "# 2. Feature Engineering <a id =\"2\"></a>"
   ]
  },
  {
   "cell_type": "markdown",
   "metadata": {},
   "source": [
    "## 2.1  Euclidian distance to Hydrology\n",
    "\n",
    "Combine Horizontal_Distance_To_Hydrology & Vertical_Distance_To_Hydrology"
   ]
  },
  {
   "cell_type": "code",
   "execution_count": 13,
   "metadata": {},
   "outputs": [],
   "source": [
    "train['Euclidian_Distance_To_Hydrology']= (train['Horizontal_Distance_To_Hydrology']**2 + train['Vertical_Distance_To_Hydrology']**2)**0.5"
   ]
  },
  {
   "cell_type": "code",
   "execution_count": 14,
   "metadata": {},
   "outputs": [
    {
     "data": {
      "text/html": [
       "<div>\n",
       "<style scoped>\n",
       "    .dataframe tbody tr th:only-of-type {\n",
       "        vertical-align: middle;\n",
       "    }\n",
       "\n",
       "    .dataframe tbody tr th {\n",
       "        vertical-align: top;\n",
       "    }\n",
       "\n",
       "    .dataframe thead th {\n",
       "        text-align: right;\n",
       "    }\n",
       "</style>\n",
       "<table border=\"1\" class=\"dataframe\">\n",
       "  <thead>\n",
       "    <tr style=\"text-align: right;\">\n",
       "      <th></th>\n",
       "      <th>Id</th>\n",
       "      <th>Elevation</th>\n",
       "      <th>Aspect</th>\n",
       "      <th>Slope</th>\n",
       "      <th>Horizontal_Distance_To_Hydrology</th>\n",
       "      <th>Vertical_Distance_To_Hydrology</th>\n",
       "      <th>Horizontal_Distance_To_Roadways</th>\n",
       "      <th>Hillshade_9am</th>\n",
       "      <th>Hillshade_Noon</th>\n",
       "      <th>Hillshade_3pm</th>\n",
       "      <th>...</th>\n",
       "      <th>Soil_Type34</th>\n",
       "      <th>Soil_Type35</th>\n",
       "      <th>Soil_Type36</th>\n",
       "      <th>Soil_Type37</th>\n",
       "      <th>Soil_Type38</th>\n",
       "      <th>Soil_Type39</th>\n",
       "      <th>Soil_Type40</th>\n",
       "      <th>Cover_Type</th>\n",
       "      <th>Wilderness_Area</th>\n",
       "      <th>Euclidian_Distance_To_Hydrology</th>\n",
       "    </tr>\n",
       "  </thead>\n",
       "  <tbody>\n",
       "    <tr>\n",
       "      <th>0</th>\n",
       "      <td>1</td>\n",
       "      <td>2596</td>\n",
       "      <td>51</td>\n",
       "      <td>3</td>\n",
       "      <td>258</td>\n",
       "      <td>0</td>\n",
       "      <td>510</td>\n",
       "      <td>221</td>\n",
       "      <td>232</td>\n",
       "      <td>148</td>\n",
       "      <td>...</td>\n",
       "      <td>0</td>\n",
       "      <td>0</td>\n",
       "      <td>0</td>\n",
       "      <td>0</td>\n",
       "      <td>0</td>\n",
       "      <td>0</td>\n",
       "      <td>0</td>\n",
       "      <td>5</td>\n",
       "      <td>Wilderness Area 1</td>\n",
       "      <td>258.000000</td>\n",
       "    </tr>\n",
       "    <tr>\n",
       "      <th>1</th>\n",
       "      <td>2</td>\n",
       "      <td>2590</td>\n",
       "      <td>56</td>\n",
       "      <td>2</td>\n",
       "      <td>212</td>\n",
       "      <td>-6</td>\n",
       "      <td>390</td>\n",
       "      <td>220</td>\n",
       "      <td>235</td>\n",
       "      <td>151</td>\n",
       "      <td>...</td>\n",
       "      <td>0</td>\n",
       "      <td>0</td>\n",
       "      <td>0</td>\n",
       "      <td>0</td>\n",
       "      <td>0</td>\n",
       "      <td>0</td>\n",
       "      <td>0</td>\n",
       "      <td>5</td>\n",
       "      <td>Wilderness Area 1</td>\n",
       "      <td>212.084889</td>\n",
       "    </tr>\n",
       "    <tr>\n",
       "      <th>2</th>\n",
       "      <td>3</td>\n",
       "      <td>2804</td>\n",
       "      <td>139</td>\n",
       "      <td>9</td>\n",
       "      <td>268</td>\n",
       "      <td>65</td>\n",
       "      <td>3180</td>\n",
       "      <td>234</td>\n",
       "      <td>238</td>\n",
       "      <td>135</td>\n",
       "      <td>...</td>\n",
       "      <td>0</td>\n",
       "      <td>0</td>\n",
       "      <td>0</td>\n",
       "      <td>0</td>\n",
       "      <td>0</td>\n",
       "      <td>0</td>\n",
       "      <td>0</td>\n",
       "      <td>2</td>\n",
       "      <td>Wilderness Area 1</td>\n",
       "      <td>275.769832</td>\n",
       "    </tr>\n",
       "    <tr>\n",
       "      <th>3</th>\n",
       "      <td>4</td>\n",
       "      <td>2785</td>\n",
       "      <td>155</td>\n",
       "      <td>18</td>\n",
       "      <td>242</td>\n",
       "      <td>118</td>\n",
       "      <td>3090</td>\n",
       "      <td>238</td>\n",
       "      <td>238</td>\n",
       "      <td>122</td>\n",
       "      <td>...</td>\n",
       "      <td>0</td>\n",
       "      <td>0</td>\n",
       "      <td>0</td>\n",
       "      <td>0</td>\n",
       "      <td>0</td>\n",
       "      <td>0</td>\n",
       "      <td>0</td>\n",
       "      <td>2</td>\n",
       "      <td>Wilderness Area 1</td>\n",
       "      <td>269.235956</td>\n",
       "    </tr>\n",
       "    <tr>\n",
       "      <th>4</th>\n",
       "      <td>5</td>\n",
       "      <td>2595</td>\n",
       "      <td>45</td>\n",
       "      <td>2</td>\n",
       "      <td>153</td>\n",
       "      <td>-1</td>\n",
       "      <td>391</td>\n",
       "      <td>220</td>\n",
       "      <td>234</td>\n",
       "      <td>150</td>\n",
       "      <td>...</td>\n",
       "      <td>0</td>\n",
       "      <td>0</td>\n",
       "      <td>0</td>\n",
       "      <td>0</td>\n",
       "      <td>0</td>\n",
       "      <td>0</td>\n",
       "      <td>0</td>\n",
       "      <td>5</td>\n",
       "      <td>Wilderness Area 1</td>\n",
       "      <td>153.003268</td>\n",
       "    </tr>\n",
       "  </tbody>\n",
       "</table>\n",
       "<p>5 rows × 58 columns</p>\n",
       "</div>"
      ],
      "text/plain": [
       "   Id  Elevation  Aspect  Slope  Horizontal_Distance_To_Hydrology  \\\n",
       "0   1       2596      51      3                               258   \n",
       "1   2       2590      56      2                               212   \n",
       "2   3       2804     139      9                               268   \n",
       "3   4       2785     155     18                               242   \n",
       "4   5       2595      45      2                               153   \n",
       "\n",
       "   Vertical_Distance_To_Hydrology  Horizontal_Distance_To_Roadways  \\\n",
       "0                               0                              510   \n",
       "1                              -6                              390   \n",
       "2                              65                             3180   \n",
       "3                             118                             3090   \n",
       "4                              -1                              391   \n",
       "\n",
       "   Hillshade_9am  Hillshade_Noon  Hillshade_3pm  ...  Soil_Type34  \\\n",
       "0            221             232            148  ...            0   \n",
       "1            220             235            151  ...            0   \n",
       "2            234             238            135  ...            0   \n",
       "3            238             238            122  ...            0   \n",
       "4            220             234            150  ...            0   \n",
       "\n",
       "   Soil_Type35  Soil_Type36  Soil_Type37  Soil_Type38  Soil_Type39  \\\n",
       "0            0            0            0            0            0   \n",
       "1            0            0            0            0            0   \n",
       "2            0            0            0            0            0   \n",
       "3            0            0            0            0            0   \n",
       "4            0            0            0            0            0   \n",
       "\n",
       "   Soil_Type40  Cover_Type    Wilderness_Area  Euclidian_Distance_To_Hydrology  \n",
       "0            0           5  Wilderness Area 1                       258.000000  \n",
       "1            0           5  Wilderness Area 1                       212.084889  \n",
       "2            0           2  Wilderness Area 1                       275.769832  \n",
       "3            0           2  Wilderness Area 1                       269.235956  \n",
       "4            0           5  Wilderness Area 1                       153.003268  \n",
       "\n",
       "[5 rows x 58 columns]"
      ]
     },
     "execution_count": 14,
     "metadata": {},
     "output_type": "execute_result"
    }
   ],
   "source": [
    "train.head()"
   ]
  },
  {
   "cell_type": "code",
   "execution_count": 15,
   "metadata": {},
   "outputs": [
    {
     "data": {
      "text/plain": [
       "<AxesSubplot:xlabel='Cover_Type', ylabel='Euclidian_Distance_To_Hydrology'>"
      ]
     },
     "execution_count": 15,
     "metadata": {},
     "output_type": "execute_result"
    },
    {
     "data": {
      "image/png": "[encoded data removed]",
      "text/plain": [
       "<Figure size 432x288 with 1 Axes>"
      ]
     },
     "metadata": {
      "needs_background": "light"
     },
     "output_type": "display_data"
    }
   ],
   "source": [
    "sns.boxplot(y=train[\"Euclidian_Distance_To_Hydrology\"], x=train[\"Cover_Type\"])"
   ]
  },
  {
   "cell_type": "markdown",
   "metadata": {},
   "source": [
    "**Learn from Kevin's notebook to make the baseline dataset same for group presentation**"
   ]
  },
  {
   "cell_type": "code",
   "execution_count": 16,
   "metadata": {},
   "outputs": [],
   "source": [
    "def pipeline(df, version=0):\n",
    "    df_n = df.copy()\n",
    "    df_n.drop(columns=['Id'],inplace=True)\n",
    "    df_n = df_n.astype({c:'bool' for c in df_n.columns if \"Soil_Type\" in c or \"Wilderness_Area\" in c})\n",
    "    if version >= 1: \n",
    "        col_normalize = ['Aspect','Slope','Horizontal_Distance_To_Hydrology','Vertical_Distance_To_Hydrology', \n",
    "                     'Hillshade_9am','Hillshade_Noon','Hillshade_3pm','Horizontal_Distance_To_Fire_Points',\n",
    "                     'Horizontal_Distance_To_Roadways']\n",
    "        df_n['log_Horizontal_Distance_To_Roadways'] = np.log(df_n['Horizontal_Distance_To_Roadways']+1)\n",
    "        df_n['log_Horizontal_Distance_To_Fire_Points'] = np.log(df_n['Horizontal_Distance_To_Fire_Points']+1)\n",
    "        df_n[col_normalize] = normalize(df_n[col_normalize])\n",
    "        df_n.drop(columns=['Soil_Type7'],inplace=True)\n",
    "    if version >= 2: # 0.8964947089947091\n",
    "        df_n['sq_Elevation'] = np.power(df['Elevation'],1.5)\n",
    "        df_n.drop(columns='Aspect',inplace=True)\n",
    "        df_n['norm_aspect'] = df_train.Aspect.map(lambda x: x-180 if x > 180 else x+180) # np.abs(df.Aspect - 180)\n",
    "        df_n['atan_aspect'] = np.arctan(df_n.norm_aspect)\n",
    "    if version >= 3: # 0.9104497354497356\n",
    "        df_n['Vertical_Distance_To_Hydrology'] = np.abs(df_n.Vertical_Distance_To_Hydrology)\n",
    "        df_n['E-VH'] = df_train.Elevation - df_train.Vertical_Distance_To_Hydrology * .9 \n",
    "        df_n['E-HH'] = df_train.Elevation - df_train.Horizontal_Distance_To_Hydrology * .5\n",
    "        \n",
    "        df_n['F+R'] = (df_train.Horizontal_Distance_To_Fire_Points + df_train.Horizontal_Distance_To_Roadways) ** 2\n",
    "        df_n['F+H'] = (df_train.Horizontal_Distance_To_Fire_Points + df_train.Horizontal_Distance_To_Hydrology) ** 0.3\n",
    "        df_n['H+R'] = (df_train.Horizontal_Distance_To_Hydrology + df_train.Horizontal_Distance_To_Roadways)\n",
    "        \n",
    "        df_n['abs_H-R'] = (np.abs(df_train.Horizontal_Distance_To_Hydrology - df_train.Horizontal_Distance_To_Roadways)) \n",
    "        df_n['abs_H-F'] = (np.abs(df_train.Horizontal_Distance_To_Hydrology - df_train.Horizontal_Distance_To_Fire_Points)) \n",
    "        df_n['abs_F-R'] = (np.abs(df_train.Horizontal_Distance_To_Fire_Points - df_train.Horizontal_Distance_To_Roadways)) \n",
    "    return df_n"
   ]
  },
  {
   "cell_type": "code",
   "execution_count": 17,
   "metadata": {},
   "outputs": [],
   "source": [
    "df_train = pd.read_csv('train.csv')"
   ]
  },
  {
   "cell_type": "code",
   "execution_count": 18,
   "metadata": {},
   "outputs": [],
   "source": [
    "df_train_c=pipeline(df_train, version=3)"
   ]
  },
  {
   "cell_type": "code",
   "execution_count": 19,
   "metadata": {},
   "outputs": [
    {
     "name": "stdout",
     "output_type": "stream",
     "text": [
      "<class 'pandas.core.frame.DataFrame'>\n",
      "RangeIndex: 15120 entries, 0 to 15119\n",
      "Data columns (total 66 columns):\n",
      " #   Column                                  Non-Null Count  Dtype  \n",
      "---  ------                                  --------------  -----  \n",
      " 0   Elevation                               15120 non-null  int64  \n",
      " 1   Slope                                   15120 non-null  float64\n",
      " 2   Horizontal_Distance_To_Hydrology        15120 non-null  float64\n",
      " 3   Vertical_Distance_To_Hydrology          15120 non-null  float64\n",
      " 4   Horizontal_Distance_To_Roadways         15120 non-null  float64\n",
      " 5   Hillshade_9am                           15120 non-null  float64\n",
      " 6   Hillshade_Noon                          15120 non-null  float64\n",
      " 7   Hillshade_3pm                           15120 non-null  float64\n",
      " 8   Horizontal_Distance_To_Fire_Points      15120 non-null  float64\n",
      " 9   Wilderness_Area1                        15120 non-null  bool   \n",
      " 10  Wilderness_Area2                        15120 non-null  bool   \n",
      " 11  Wilderness_Area3                        15120 non-null  bool   \n",
      " 12  Wilderness_Area4                        15120 non-null  bool   \n",
      " 13  Soil_Type1                              15120 non-null  bool   \n",
      " 14  Soil_Type2                              15120 non-null  bool   \n",
      " 15  Soil_Type3                              15120 non-null  bool   \n",
      " 16  Soil_Type4                              15120 non-null  bool   \n",
      " 17  Soil_Type5                              15120 non-null  bool   \n",
      " 18  Soil_Type6                              15120 non-null  bool   \n",
      " 19  Soil_Type8                              15120 non-null  bool   \n",
      " 20  Soil_Type9                              15120 non-null  bool   \n",
      " 21  Soil_Type10                             15120 non-null  bool   \n",
      " 22  Soil_Type11                             15120 non-null  bool   \n",
      " 23  Soil_Type12                             15120 non-null  bool   \n",
      " 24  Soil_Type13                             15120 non-null  bool   \n",
      " 25  Soil_Type14                             15120 non-null  bool   \n",
      " 26  Soil_Type15                             15120 non-null  bool   \n",
      " 27  Soil_Type16                             15120 non-null  bool   \n",
      " 28  Soil_Type17                             15120 non-null  bool   \n",
      " 29  Soil_Type18                             15120 non-null  bool   \n",
      " 30  Soil_Type19                             15120 non-null  bool   \n",
      " 31  Soil_Type20                             15120 non-null  bool   \n",
      " 32  Soil_Type21                             15120 non-null  bool   \n",
      " 33  Soil_Type22                             15120 non-null  bool   \n",
      " 34  Soil_Type23                             15120 non-null  bool   \n",
      " 35  Soil_Type24                             15120 non-null  bool   \n",
      " 36  Soil_Type25                             15120 non-null  bool   \n",
      " 37  Soil_Type26                             15120 non-null  bool   \n",
      " 38  Soil_Type27                             15120 non-null  bool   \n",
      " 39  Soil_Type28                             15120 non-null  bool   \n",
      " 40  Soil_Type29                             15120 non-null  bool   \n",
      " 41  Soil_Type30                             15120 non-null  bool   \n",
      " 42  Soil_Type31                             15120 non-null  bool   \n",
      " 43  Soil_Type32                             15120 non-null  bool   \n",
      " 44  Soil_Type33                             15120 non-null  bool   \n",
      " 45  Soil_Type34                             15120 non-null  bool   \n",
      " 46  Soil_Type35                             15120 non-null  bool   \n",
      " 47  Soil_Type36                             15120 non-null  bool   \n",
      " 48  Soil_Type37                             15120 non-null  bool   \n",
      " 49  Soil_Type38                             15120 non-null  bool   \n",
      " 50  Soil_Type39                             15120 non-null  bool   \n",
      " 51  Soil_Type40                             15120 non-null  bool   \n",
      " 52  Cover_Type                              15120 non-null  int64  \n",
      " 53  log_Horizontal_Distance_To_Roadways     15120 non-null  float64\n",
      " 54  log_Horizontal_Distance_To_Fire_Points  15120 non-null  float64\n",
      " 55  sq_Elevation                            15120 non-null  float64\n",
      " 56  norm_aspect                             15120 non-null  int64  \n",
      " 57  atan_aspect                             15120 non-null  float64\n",
      " 58  E-VH                                    15120 non-null  float64\n",
      " 59  E-HH                                    15120 non-null  float64\n",
      " 60  F+R                                     15120 non-null  int64  \n",
      " 61  F+H                                     15120 non-null  float64\n",
      " 62  H+R                                     15120 non-null  int64  \n",
      " 63  abs_H-R                                 15120 non-null  int64  \n",
      " 64  abs_H-F                                 15120 non-null  int64  \n",
      " 65  abs_F-R                                 15120 non-null  int64  \n",
      "dtypes: bool(43), float64(15), int64(8)\n",
      "memory usage: 3.3 MB\n"
     ]
    }
   ],
   "source": [
    "df_train_c.info()"
   ]
  },
  {
   "cell_type": "markdown",
   "metadata": {},
   "source": [
    "# 3. Building Model <a id =\"3\"></a>"
   ]
  },
  {
   "cell_type": "markdown",
   "metadata": {},
   "source": [
    "### Seperate labels from features in the training set"
   ]
  },
  {
   "cell_type": "code",
   "execution_count": 20,
   "metadata": {},
   "outputs": [],
   "source": [
    "train_feature=train.drop(['Cover_Type','Horizontal_Distance_To_Hydrology','Vertical_Distance_To_Hydrology','Id','Wilderness_Area'],axis=1)\n",
    "train_label=train['Cover_Type']"
   ]
  },
  {
   "cell_type": "markdown",
   "metadata": {},
   "source": [
    "### Split training set as training and validation set"
   ]
  },
  {
   "cell_type": "code",
   "execution_count": 21,
   "metadata": {},
   "outputs": [],
   "source": [
    "X_train, X_dev, y_train, y_dev = train_test_split(train_feature, train_label, test_size=0.2, random_state=1)"
   ]
  },
  {
   "cell_type": "markdown",
   "metadata": {},
   "source": [
    "## 3.1 K-Nearest Neighbors <a id =\"4\"></a>"
   ]
  },
  {
   "cell_type": "markdown",
   "metadata": {},
   "source": [
    "### 3.1.1 Feature Scaling\n",
    "\n",
    "> KNN chooses the k closest neighbors and then based on these neighbors, assigns a class (for classification problems) or predicts a value (for regression problems) for a new observation. K-Means clusters the similar points together. The similarity here is defined by the distance between the points. Lesser the distance between the points, more is the similarity and vice versa. **Here feature scaling helps to weigh all the features equally.**"
   ]
  },
  {
   "cell_type": "markdown",
   "metadata": {},
   "source": [
    "### 3.1.1.1 First Rescaling uses Standard Scaling \n",
    "\n",
    ">One approach to data scaling involves calculating the mean and standard deviation of each variable and using these values to scale the values to have a mean of zero and a standard deviation of one, a so-called “standard normal” probability distribution. This process is called standardization and is most useful when input variables have a Gaussian probability distribution."
   ]
  },
  {
   "cell_type": "code",
   "execution_count": 22,
   "metadata": {},
   "outputs": [],
   "source": [
    "sc = StandardScaler()\n",
    "X_train_scaled = sc.fit_transform(X_train)\n",
    "X_dev_scaled = sc.fit_transform(X_dev)"
   ]
  },
  {
   "cell_type": "code",
   "execution_count": 23,
   "metadata": {},
   "outputs": [
    {
     "data": {
      "image/png": "[encoded data removed]",
      "text/plain": [
       "<Figure size 864x360 with 1 Axes>"
      ]
     },
     "metadata": {
      "needs_background": "light"
     },
     "output_type": "display_data"
    }
   ],
   "source": [
    "# find the best number of neighbors\n",
    "n_neighbors=np.arange(1,9)\n",
    "train_score = np.empty(len(n_neighbors)) \n",
    "dev_score = np.empty(len(n_neighbors)) \n",
    "\n",
    "# iterate the list\n",
    "for index,neighbor in enumerate(n_neighbors):\n",
    "    knn = KNeighborsClassifier(n_neighbors=neighbor) \n",
    "    knn.fit(X_train_scaled, y_train) \n",
    "    # compute training and test data accuracy\n",
    "    train_score[index] = knn.score(X_train_scaled, y_train) \n",
    "    dev_score[index] = knn.score(X_dev_scaled, y_dev) \n",
    "\n",
    "# Generate plot \n",
    "plt.figure(figsize=(12,5))\n",
    "p = sns.lineplot(n_neighbors,dev_score,marker='*',label='Dev Score')\n",
    "p = sns.lineplot(n_neighbors,train_score,marker='o',label='Test Score')   \n",
    "plt.legend() \n",
    "plt.xlabel('n_neighbors') \n",
    "plt.ylabel('Accuracy') \n",
    "plt.show() "
   ]
  },
  {
   "cell_type": "code",
   "execution_count": 24,
   "metadata": {},
   "outputs": [
    {
     "name": "stdout",
     "output_type": "stream",
     "text": [
      "Max test score 81.08465608465607 % and k = [1]\n"
     ]
    }
   ],
   "source": [
    "max_dev_score = max(dev_score)\n",
    "max_dev_score_index=[i for i, v in enumerate(dev_score) if v == max_dev_score]\n",
    "print('Max test score {} % and k = {}'.format(max_dev_score*100,list(map(lambda x: x+1, max_dev_score_index))))"
   ]
  },
  {
   "cell_type": "markdown",
   "metadata": {},
   "source": [
    "### 3.1.1.2 Using Robust Scaling to handle the presences of outliers using Robust Scaling to handle the presences of outliers\n",
    "\n",
    "> One approach to standardizing input variables in the presence of outliers is to ignore the outliers from the calculation of the mean and standard deviation, then use the calculated values to scale the variable. This is called robust standardization or robust data scaling."
   ]
  },
  {
   "cell_type": "code",
   "execution_count": 25,
   "metadata": {},
   "outputs": [],
   "source": [
    "robustsc = RobustScaler()\n",
    "X_train_scaled_r = robustsc.fit_transform(X_train)\n",
    "X_dev_scaled_r = robustsc.fit_transform(X_dev)"
   ]
  },
  {
   "cell_type": "code",
   "execution_count": 26,
   "metadata": {},
   "outputs": [
    {
     "data": {
      "image/png": "[encoded data removed]",
      "text/plain": [
       "<Figure size 864x360 with 1 Axes>"
      ]
     },
     "metadata": {
      "needs_background": "light"
     },
     "output_type": "display_data"
    }
   ],
   "source": [
    "# find the best number of neighbors\n",
    "n_neighbors=np.arange(1,9)\n",
    "train_score = np.empty(len(n_neighbors)) \n",
    "dev_score = np.empty(len(n_neighbors)) \n",
    "\n",
    "# iterate the list\n",
    "for index,neighbor in enumerate(n_neighbors):\n",
    "    knn = KNeighborsClassifier(n_neighbors=neighbor) \n",
    "    knn.fit(X_train_scaled, y_train) \n",
    "    # compute training and test data accuracy\n",
    "    train_score[index] = knn.score(X_train_scaled_r, y_train) \n",
    "    dev_score[index] = knn.score(X_dev_scaled_r, y_dev) \n",
    "\n",
    "# Generate plot \n",
    "plt.figure(figsize=(12,5))\n",
    "p = sns.lineplot(n_neighbors,dev_score,marker='*',label='Dev Score')\n",
    "p = sns.lineplot(n_neighbors,train_score,marker='o',label='Test Score')   \n",
    "plt.legend() \n",
    "plt.xlabel('n_neighbors') \n",
    "plt.ylabel('Accuracy') \n",
    "plt.show() "
   ]
  },
  {
   "cell_type": "code",
   "execution_count": 27,
   "metadata": {},
   "outputs": [
    {
     "name": "stdout",
     "output_type": "stream",
     "text": [
      "Max test score 39.21957671957672 % and k = [8]\n"
     ]
    }
   ],
   "source": [
    "max_dev_score = max(dev_score)\n",
    "max_dev_score_index=[i for i, v in enumerate(dev_score) if v == max_dev_score]\n",
    "print('Max test score {} % and k = {}'.format(max_dev_score*100,list(map(lambda x: x+1, max_dev_score_index))))"
   ]
  },
  {
   "cell_type": "markdown",
   "metadata": {},
   "source": [
    "- KNN achieve the best performance, accuracy of 81.08%  with K = 1\n",
    "- With RobustScaler, the accuracy is under Standard Scaler."
   ]
  },
  {
   "cell_type": "markdown",
   "metadata": {},
   "source": [
    "## 3.2 Decision Tree  <a id =\"5\"></a>\n"
   ]
  },
  {
   "cell_type": "code",
   "execution_count": 28,
   "metadata": {},
   "outputs": [
    {
     "data": {
      "image/png": "[encoded data removed]",
      "text/plain": [
       "<Figure size 1080x360 with 1 Axes>"
      ]
     },
     "metadata": {
      "needs_background": "light"
     },
     "output_type": "display_data"
    }
   ],
   "source": [
    "# function for fitting trees of various depths on the training data using cross-validation\n",
    "def run_cross_validation_on_trees(X, y, tree_depths, cv=5, scoring='accuracy'):\n",
    "    cv_scores_list = []\n",
    "    cv_scores_std = []\n",
    "    cv_scores_mean = []\n",
    "    accuracy_scores = []\n",
    "    for depth in tree_depths:\n",
    "        tree_model = DecisionTreeClassifier(max_depth=depth)\n",
    "        cv_scores = cross_val_score(tree_model, X, y, cv=cv, scoring=scoring)\n",
    "        cv_scores_list.append(cv_scores)\n",
    "        cv_scores_mean.append(cv_scores.mean())\n",
    "        cv_scores_std.append(cv_scores.std())\n",
    "        accuracy_scores.append(tree_model.fit(X, y).score(X, y))\n",
    "    cv_scores_mean = np.array(cv_scores_mean)\n",
    "    cv_scores_std = np.array(cv_scores_std)\n",
    "    accuracy_scores = np.array(accuracy_scores)\n",
    "    return cv_scores_mean, cv_scores_std, accuracy_scores\n",
    "  \n",
    "# function for plotting cross-validation results\n",
    "def plot_cross_validation_on_trees(depths, cv_scores_mean, cv_scores_std, accuracy_scores, title):\n",
    "    fig, ax = plt.subplots(1,1, figsize=(15,5))\n",
    "    ax.plot(depths, cv_scores_mean, '-o', label='mean cross-validation accuracy', alpha=0.9)\n",
    "    ax.fill_between(depths, cv_scores_mean-2*cv_scores_std, cv_scores_mean+2*cv_scores_std, alpha=0.2)\n",
    "    ylim = plt.ylim()\n",
    "    ax.plot(depths, accuracy_scores, '-*', label='train accuracy', alpha=0.9)\n",
    "    ax.set_title(title, fontsize=16)\n",
    "    ax.set_xlabel('Tree depth', fontsize=14)\n",
    "    ax.set_ylabel('Accuracy', fontsize=14)\n",
    "    ax.set_ylim(ylim)\n",
    "    ax.set_xticks(depths)\n",
    "    ax.legend()\n",
    "\n",
    "# fitting trees of depth 1 to 24\n",
    "sm_tree_depths = range(1,25)\n",
    "sm_cv_scores_mean, sm_cv_scores_std, sm_accuracy_scores = run_cross_validation_on_trees(X_train, y_train, sm_tree_depths)\n",
    "\n",
    "# plotting accuracy\n",
    "plot_cross_validation_on_trees(sm_tree_depths, sm_cv_scores_mean, sm_cv_scores_std, sm_accuracy_scores, \n",
    "                               'Accuracy per decision tree depth on training data')"
   ]
  },
  {
   "cell_type": "code",
   "execution_count": 29,
   "metadata": {},
   "outputs": [
    {
     "name": "stdout",
     "output_type": "stream",
     "text": [
      "The depth-19 tree achieves the best mean cross-validation accuracy 77.166 +/- 0.38242% on training dataset\n"
     ]
    }
   ],
   "source": [
    "idx_max = sm_cv_scores_mean.argmax()\n",
    "sm_best_tree_depth = sm_tree_depths[idx_max]\n",
    "sm_best_tree_cv_score = sm_cv_scores_mean[idx_max]\n",
    "sm_best_tree_cv_score_std = sm_cv_scores_std[idx_max]\n",
    "print('The depth-{} tree achieves the best mean cross-validation accuracy {} +/- {}% on training dataset'.format(\n",
    "      sm_best_tree_depth, round(sm_best_tree_cv_score*100,5), round(sm_best_tree_cv_score_std*100, 5)))"
   ]
  },
  {
   "cell_type": "markdown",
   "metadata": {},
   "source": [
    "## 3.3 Random Forest <a id =\"6\"></a>\n",
    "\n",
    "> The random forest is a classification algorithm consisting of many decisions trees. It uses bagging and feature randomness when building each individual tree to try to create an uncorrelated forest of trees whose prediction by committee is more accurate than that of any individual tree.\n",
    "\n",
    "\n",
    ">Making predictions with a Random Forest: get a prediction from every tree (summing up to N predictions) and then obtain an overall, aggregated prediction. Bootstrapping the data and then using an aggregate to make a prediction is called Bagging, and how this prediction is made depends on the kind of problem we are facing."
   ]
  },
  {
   "cell_type": "markdown",
   "metadata": {},
   "source": [
    "### 3.3.1 Create a random forest with 100 tress"
   ]
  },
  {
   "cell_type": "code",
   "execution_count": 30,
   "metadata": {},
   "outputs": [
    {
     "name": "stdout",
     "output_type": "stream",
     "text": [
      "Accuracy: 0.8624338624338624\n"
     ]
    }
   ],
   "source": [
    "# Create the model with 100 trees\n",
    "forest= RandomForestClassifier(n_estimators=100, bootstrap = True, max_features = 'sqrt')\n",
    "forest=forest.fit(X_train, y_train)\n",
    "y_pred=forest.predict(X_dev)\n",
    "print(\"Accuracy:\", accuracy_score(y_pred, y_dev))"
   ]
  },
  {
   "cell_type": "code",
   "execution_count": 31,
   "metadata": {},
   "outputs": [
    {
     "data": {
      "text/html": [
       "<div>\n",
       "<style scoped>\n",
       "    .dataframe tbody tr th:only-of-type {\n",
       "        vertical-align: middle;\n",
       "    }\n",
       "\n",
       "    .dataframe tbody tr th {\n",
       "        vertical-align: top;\n",
       "    }\n",
       "\n",
       "    .dataframe thead th {\n",
       "        text-align: right;\n",
       "    }\n",
       "</style>\n",
       "<table border=\"1\" class=\"dataframe\">\n",
       "  <thead>\n",
       "    <tr style=\"text-align: right;\">\n",
       "      <th></th>\n",
       "      <th>feature</th>\n",
       "      <th>importance</th>\n",
       "    </tr>\n",
       "  </thead>\n",
       "  <tbody>\n",
       "    <tr>\n",
       "      <th>0</th>\n",
       "      <td>Elevation</td>\n",
       "      <td>0.226639</td>\n",
       "    </tr>\n",
       "    <tr>\n",
       "      <th>3</th>\n",
       "      <td>Horizontal_Distance_To_Roadways</td>\n",
       "      <td>0.097456</td>\n",
       "    </tr>\n",
       "    <tr>\n",
       "      <th>52</th>\n",
       "      <td>Euclidian_Distance_To_Hydrology</td>\n",
       "      <td>0.079000</td>\n",
       "    </tr>\n",
       "    <tr>\n",
       "      <th>7</th>\n",
       "      <td>Horizontal_Distance_To_Fire_Points</td>\n",
       "      <td>0.076758</td>\n",
       "    </tr>\n",
       "    <tr>\n",
       "      <th>4</th>\n",
       "      <td>Hillshade_9am</td>\n",
       "      <td>0.056616</td>\n",
       "    </tr>\n",
       "  </tbody>\n",
       "</table>\n",
       "</div>"
      ],
      "text/plain": [
       "                               feature  importance\n",
       "0                            Elevation    0.226639\n",
       "3      Horizontal_Distance_To_Roadways    0.097456\n",
       "52     Euclidian_Distance_To_Hydrology    0.079000\n",
       "7   Horizontal_Distance_To_Fire_Points    0.076758\n",
       "4                        Hillshade_9am    0.056616"
      ]
     },
     "execution_count": 31,
     "metadata": {},
     "output_type": "execute_result"
    }
   ],
   "source": [
    "# Identify Important Features\n",
    "feature_importances_df = pd.DataFrame({\"feature\": list(X_train.columns), \n",
    "                                       \"importance\": forest.feature_importances_}\n",
    "                                     ).sort_values(\"importance\", ascending=False)\n",
    "\n",
    "# Display\n",
    "feature_importances_df.head(5)"
   ]
  },
  {
   "cell_type": "markdown",
   "metadata": {},
   "source": [
    "### 3.3.2 Hyperparameter Tuning - Grid Search and Random Search\n",
    "\n",
    "In the case of a random forest, **hyperparameters include the number of decision trees in the forest and the number of features considered by each tree when splitting a node.** (The parameters of a random forest are the variables and thresholds used to split each node learned during training). "
   ]
  },
  {
   "cell_type": "code",
   "execution_count": 32,
   "metadata": {},
   "outputs": [
    {
     "name": "stdout",
     "output_type": "stream",
     "text": [
      "Parameters currently in use:\n",
      "\n",
      "{'bootstrap': True,\n",
      " 'ccp_alpha': 0.0,\n",
      " 'class_weight': None,\n",
      " 'criterion': 'gini',\n",
      " 'max_depth': None,\n",
      " 'max_features': 'sqrt',\n",
      " 'max_leaf_nodes': None,\n",
      " 'max_samples': None,\n",
      " 'min_impurity_decrease': 0.0,\n",
      " 'min_impurity_split': None,\n",
      " 'min_samples_leaf': 1,\n",
      " 'min_samples_split': 2,\n",
      " 'min_weight_fraction_leaf': 0.0,\n",
      " 'n_estimators': 100,\n",
      " 'n_jobs': None,\n",
      " 'oob_score': False,\n",
      " 'random_state': None,\n",
      " 'verbose': 0,\n",
      " 'warm_start': False}\n"
     ]
    }
   ],
   "source": [
    "# Look at parameters used by our current forest\n",
    "print('Parameters currently in use:\\n')\n",
    "pprint(forest.get_params())"
   ]
  },
  {
   "cell_type": "code",
   "execution_count": 33,
   "metadata": {},
   "outputs": [],
   "source": [
    "# Method of selecting samples for training each tree\n",
    "bootstrap = [True, False]\n",
    "\n",
    "# Maximum number of levels in tree\n",
    "max_depth = [int(x) for x in np.linspace(10, 110, num = 11)]\n",
    "max_depth.append(None)\n",
    "\n",
    "# Number of features to consider at every split\n",
    "max_features = ['auto', 'sqrt']\n",
    "\n",
    "# Minimum number of samples required at each leaf node\n",
    "min_samples_leaf = [1, 2, 4]\n",
    "\n",
    "# Minimum number of samples required to split a node\n",
    "min_samples_split = [2, 5, 10]\n",
    "\n",
    "# Number of trees in random forest\n",
    "n_estimators = [int(x) for x in np.linspace(start = 200, stop = 2000, num = 10)]"
   ]
  },
  {
   "cell_type": "markdown",
   "metadata": {},
   "source": [
    "### 3.3.2.1 Hyperparameter Tuning - Random Search\n",
    "\n",
    "set up a grid of hyperparameter values and select random combinations to train the model and score. The number of search iterations is set based on time/resources."
   ]
  },
  {
   "cell_type": "code",
   "execution_count": 34,
   "metadata": {},
   "outputs": [
    {
     "name": "stdout",
     "output_type": "stream",
     "text": [
      "{'bootstrap': [True, False],\n",
      " 'max_depth': [10, 20, 30, 40, 50, 60, 70, 80, 90, 100, 110, None],\n",
      " 'max_features': ['auto', 'sqrt'],\n",
      " 'min_samples_leaf': [1, 2, 4],\n",
      " 'min_samples_split': [2, 5, 10],\n",
      " 'n_estimators': [200, 400, 600, 800, 1000, 1200, 1400, 1600, 1800, 2000]}\n"
     ]
    }
   ],
   "source": [
    "# Create the random grid\n",
    "random_grid = {'n_estimators': n_estimators,\n",
    "               'max_features': max_features,\n",
    "               'max_depth': max_depth,\n",
    "               'min_samples_split': min_samples_split,\n",
    "               'min_samples_leaf': min_samples_leaf,\n",
    "               'bootstrap': bootstrap}\n",
    "pprint(random_grid)"
   ]
  },
  {
   "cell_type": "markdown",
   "metadata": {},
   "source": [
    "On each iteration, the algorithm will choose a difference combination of the features. However, the benefit of a random search is that we are not trying every combination, but selecting at random to sample a wide range of values."
   ]
  },
  {
   "cell_type": "code",
   "execution_count": 35,
   "metadata": {},
   "outputs": [
    {
     "name": "stdout",
     "output_type": "stream",
     "text": [
      "Fitting 3 folds for each of 100 candidates, totalling 300 fits\n"
     ]
    },
    {
     "name": "stderr",
     "output_type": "stream",
     "text": [
      "[Parallel(n_jobs=-1)]: Using backend LokyBackend with 8 concurrent workers.\n",
      "[Parallel(n_jobs=-1)]: Done  25 tasks      | elapsed:  1.0min\n",
      "[Parallel(n_jobs=-1)]: Done 146 tasks      | elapsed:  5.9min\n",
      "[Parallel(n_jobs=-1)]: Done 300 out of 300 | elapsed: 12.3min finished\n"
     ]
    },
    {
     "data": {
      "text/plain": [
       "RandomizedSearchCV(cv=3, estimator=RandomForestClassifier(), n_iter=100,\n",
       "                   n_jobs=-1,\n",
       "                   param_distributions={'bootstrap': [True, False],\n",
       "                                        'max_depth': [10, 20, 30, 40, 50, 60,\n",
       "                                                      70, 80, 90, 100, 110,\n",
       "                                                      None],\n",
       "                                        'max_features': ['auto', 'sqrt'],\n",
       "                                        'min_samples_leaf': [1, 2, 4],\n",
       "                                        'min_samples_split': [2, 5, 10],\n",
       "                                        'n_estimators': [200, 400, 600, 800,\n",
       "                                                         1000, 1200, 1400, 1600,\n",
       "                                                         1800, 2000]},\n",
       "                   random_state=42, verbose=2)"
      ]
     },
     "execution_count": 35,
     "metadata": {},
     "output_type": "execute_result"
    }
   ],
   "source": [
    "# Use the random grid to search for best hyperparameters\n",
    "#First create the base model to tune\n",
    "forest = RandomForestClassifier()\n",
    "\n",
    "# Random search of parameters, using 3 fold cross validation, \n",
    "# search across 100 different combinations, and use all available cores\n",
    "rf_random = RandomizedSearchCV(estimator = forest, \n",
    "                               param_distributions = random_grid, \n",
    "                               n_iter = 100,  # controls the number of different combinations to try\n",
    "                               cv = 3, # number of folds to use for cross validation\n",
    "                               verbose=2, \n",
    "                               random_state=42, \n",
    "                               n_jobs = -1)\n",
    "# Fit the random search model\n",
    "rf_random.fit(X_train, y_train)"
   ]
  },
  {
   "cell_type": "code",
   "execution_count": 36,
   "metadata": {},
   "outputs": [
    {
     "data": {
      "text/plain": [
       "{'n_estimators': 1400,\n",
       " 'min_samples_split': 2,\n",
       " 'min_samples_leaf': 1,\n",
       " 'max_features': 'auto',\n",
       " 'max_depth': 40,\n",
       " 'bootstrap': False}"
      ]
     },
     "execution_count": 36,
     "metadata": {},
     "output_type": "execute_result"
    }
   ],
   "source": [
    "rf_random.best_params_"
   ]
  },
  {
   "cell_type": "code",
   "execution_count": 51,
   "metadata": {},
   "outputs": [],
   "source": [
    "rf_random_dict=rf_random.best_params_"
   ]
  },
  {
   "cell_type": "code",
   "execution_count": 60,
   "metadata": {},
   "outputs": [
    {
     "name": "stdout",
     "output_type": "stream",
     "text": [
      "After random search to find the best hypeparameters, random forest model achieves:  0.8687169312169312\n"
     ]
    }
   ],
   "source": [
    "forest= RandomForestClassifier(n_estimators=rf_random_dict['n_estimators'], \n",
    "                               min_samples_split = rf_random_dict['min_samples_split'],\n",
    "                               min_samples_leaf = rf_random_dict['min_samples_leaf'],\n",
    "                               max_features = rf_random_dict['max_features'],\n",
    "                               bootstrap = rf_random_dict['bootstrap'],\n",
    "                               max_depth=rf_random_dict['max_depth'],)\n",
    "forest=forest.fit(X_train, y_train)\n",
    "y_pred=forest.predict(X_dev)\n",
    "print(\"After random search to find the best hypeparameters, random forest model achieves: \", accuracy_score(y_pred, y_dev))"
   ]
  },
  {
   "cell_type": "markdown",
   "metadata": {},
   "source": [
    "### 3.3.2.1 Hyperparameter Tuning - Grid Search\n",
    "\n",
    "set up a grid of hyperparameter values and for each combination, train a model and score on the validation data. In this approach, every single combination of hyperparameters values is tried which can be very inefficient!"
   ]
  },
  {
   "cell_type": "code",
   "execution_count": 38,
   "metadata": {},
   "outputs": [
    {
     "name": "stdout",
     "output_type": "stream",
     "text": [
      "Fitting 3 folds for each of 288 candidates, totalling 864 fits\n"
     ]
    },
    {
     "name": "stderr",
     "output_type": "stream",
     "text": [
      "[Parallel(n_jobs=-1)]: Using backend LokyBackend with 8 concurrent workers.\n",
      "[Parallel(n_jobs=-1)]: Done  25 tasks      | elapsed:    9.1s\n",
      "[Parallel(n_jobs=-1)]: Done 146 tasks      | elapsed:   50.0s\n",
      "[Parallel(n_jobs=-1)]: Done 349 tasks      | elapsed:  2.0min\n",
      "[Parallel(n_jobs=-1)]: Done 632 tasks      | elapsed:  3.9min\n",
      "[Parallel(n_jobs=-1)]: Done 864 out of 864 | elapsed:  5.4min finished\n"
     ]
    },
    {
     "data": {
      "text/plain": [
       "GridSearchCV(cv=3, estimator=RandomForestClassifier(), n_jobs=-1,\n",
       "             param_grid={'bootstrap': [True], 'max_depth': [80, 90, 100, 110],\n",
       "                         'max_features': [2, 3], 'min_samples_leaf': [3, 4, 5],\n",
       "                         'min_samples_split': [8, 10, 12],\n",
       "                         'n_estimators': [100, 200, 300, 1000]},\n",
       "             verbose=2)"
      ]
     },
     "execution_count": 38,
     "metadata": {},
     "output_type": "execute_result"
    }
   ],
   "source": [
    "param_grid = {\n",
    "    'bootstrap': [True],\n",
    "    'max_depth': [80, 90, 100, 110],\n",
    "    'max_features': [2, 3],\n",
    "    'min_samples_leaf': [3, 4, 5],\n",
    "    'min_samples_split': [8, 10, 12],\n",
    "    'n_estimators': [100, 200, 300, 1000]\n",
    "}\n",
    "\n",
    "\n",
    "# Use the grid grid to search for best hyperparameters\n",
    "#First create the base model to tune\n",
    "forest = RandomForestClassifier()\n",
    "\n",
    "# Random search of parameters, using 3 fold cross validation, \n",
    "# search across 100 different combinations, and use all available cores\n",
    "rf_grid = GridSearchCV(estimator = forest, \n",
    "                               param_grid = param_grid,\n",
    "                               cv = 3, # number of folds to use for cross validation\n",
    "                               n_jobs = -1,\n",
    "                               verbose = 2)\n",
    "# Fit the random search model\n",
    "rf_grid.fit(X_train, y_train)"
   ]
  },
  {
   "cell_type": "code",
   "execution_count": 39,
   "metadata": {},
   "outputs": [
    {
     "data": {
      "text/plain": [
       "{'bootstrap': True,\n",
       " 'max_depth': 110,\n",
       " 'max_features': 3,\n",
       " 'min_samples_leaf': 3,\n",
       " 'min_samples_split': 8,\n",
       " 'n_estimators': 1000}"
      ]
     },
     "execution_count": 39,
     "metadata": {},
     "output_type": "execute_result"
    }
   ],
   "source": [
    "rf_grid.best_params_"
   ]
  },
  {
   "cell_type": "code",
   "execution_count": 58,
   "metadata": {},
   "outputs": [],
   "source": [
    "rf_grid_dict=rf_grid.best_params_"
   ]
  },
  {
   "cell_type": "code",
   "execution_count": 61,
   "metadata": {},
   "outputs": [
    {
     "name": "stdout",
     "output_type": "stream",
     "text": [
      "After grid search to find the best hypeparameters, random forest model achieves: 0.8230820105820106\n"
     ]
    }
   ],
   "source": [
    "forest= RandomForestClassifier(n_estimators=rf_grid_dict['n_estimators'], \n",
    "                               max_depth = rf_grid_dict['max_depth'],\n",
    "                               min_samples_split = rf_grid_dict['min_samples_split'],\n",
    "                               min_samples_leaf = rf_grid_dict['min_samples_leaf'],\n",
    "                               max_features = rf_grid_dict['max_features'],\n",
    "                               bootstrap = rf_grid_dict['bootstrap'])\n",
    "forest=forest.fit(X_train, y_train)\n",
    "y_pred=forest.predict(X_dev)\n",
    "print(\"After grid search to find the best hypeparameters, random forest model achieves:\", accuracy_score(y_pred, y_dev))"
   ]
  },
  {
   "cell_type": "markdown",
   "metadata": {},
   "source": [
    "## 3.4 Extra tree  <a id =\"7\"></a>\n",
    "\n",
    "- Random forest develop each decision tree from a bootstrap sample of the training dataset, the Extra Trees algorithm fits each decision tree on the whole training dataset. (Extra Trees use the whole original sample. In the Extra Trees sklearn implementation there is an optional parameter that allows users to bootstrap replicas, but by default, it uses the entire input sample.)\n",
    "\n",
    "- In order to split nodes, the Extra Trees algorithm will randomly sample the features at each split point of a decision tree. Unlike random forest, which uses a greedy algorithm to select an optimal split point, the Extra Trees algorithm selects a split point at random.\n",
    "\n",
    "- The Extra Trees algorithm is faster. This algorithm saves time because the whole procedure is the same, but it randomly chooses the split point and does not calculate the optimal one.\n",
    "\n",
    "\n",
    "**Extra tree  does not bootstrap observations (meaning it samples without replacement), and nodes are split on random splits, not best splits.**"
   ]
  },
  {
   "cell_type": "code",
   "execution_count": 62,
   "metadata": {},
   "outputs": [
    {
     "name": "stdout",
     "output_type": "stream",
     "text": [
      "After random search to find the best hypeparameters, random forest model achieves:  0.8660714285714286\n"
     ]
    }
   ],
   "source": [
    "Extratree = ExtraTreesClassifier(n_estimators=rf_random_dict['n_estimators'], \n",
    "                               min_samples_split = rf_random_dict['min_samples_split'],\n",
    "                               min_samples_leaf = rf_random_dict['min_samples_leaf'],\n",
    "                               max_features = rf_random_dict['max_features'],\n",
    "                               bootstrap = rf_random_dict['bootstrap'],\n",
    "                               max_depth=rf_random_dict['max_depth'],)\n",
    "Extratree=Extratree.fit(X_train, y_train)\n",
    "y_pred=Extratree.predict(X_dev)\n",
    "\n",
    "print(\"After random search to find the best hypeparameters, extra tree model achieves: \", accuracy_score(y_pred, y_dev))"
   ]
  },
  {
   "cell_type": "code",
   "execution_count": 63,
   "metadata": {},
   "outputs": [
    {
     "name": "stdout",
     "output_type": "stream",
     "text": [
      "After grid search to find the best hypeparameters, extra tree model achieves: 0.8296957671957672\n"
     ]
    }
   ],
   "source": [
    "Extratree = ExtraTreesClassifier(n_estimators=rf_grid_dict['n_estimators'], \n",
    "                               max_depth = rf_grid_dict['max_depth'],\n",
    "                               min_samples_split = rf_grid_dict['min_samples_split'],\n",
    "                               min_samples_leaf = rf_grid_dict['min_samples_leaf'],\n",
    "                               max_features = rf_grid_dict['max_features'],\n",
    "                               bootstrap = rf_grid_dict['bootstrap'])\n",
    "ExtraTreesClassifier=forest.fit(X_train, y_train)\n",
    "y_pred=ExtraTreesClassifier.predict(X_dev)\n",
    "print(\"After grid search to find the best hypeparameters, extra tree model achieves:\", accuracy_score(y_pred, y_dev))"
   ]
  },
  {
   "cell_type": "markdown",
   "metadata": {},
   "source": [
    "## 3.5 pca   <a id =\"8\"></a>\n",
    "\n",
    "Principal component analysis is a statistical technique to convert **high dimensional data to low dimensional data** by selecting the most important features that capture maximum information about the dataset. The features are selected on the basis of variance that they cause in the output. The feature that causes highest variance is the first principal component. The feature that is responsible for second highest variance is considered the second principal component, and so on. It is important to mention that principal components do not have any correlation with each other.\n",
    "\n",
    "\n",
    "### 3.4.1 Compute covariance matrix\n",
    "\n",
    "A covariance matrix expresses the correlation between the different features in the data set. It is essential to identify heavily dependent variables because they contain biased and redundant information which reduces the overall performance of the model. The below code snippet computes the covariance matrix for the data:"
   ]
  },
  {
   "cell_type": "code",
   "execution_count": 41,
   "metadata": {},
   "outputs": [
    {
     "name": "stdout",
     "output_type": "stream",
     "text": [
      "Covariance matrix n[[ 1.00008268 -0.00444551 -0.30692262 ...  0.29541434  0.30697108\n",
      "   0.40369273]\n",
      " [-0.00444551  1.00008268  0.01829082 ... -0.02852179  0.00313088\n",
      "   0.04488681]\n",
      " [-0.30692262  0.01829082  1.00008268 ...  0.05087154 -0.04006769\n",
      "  -0.02615788]\n",
      " ...\n",
      " [ 0.29541434 -0.02852179  0.05087154 ...  1.00008268 -0.03767464\n",
      "   0.06950722]\n",
      " [ 0.30697108  0.00313088 -0.04006769 ... -0.03767464  1.00008268\n",
      "   0.24987321]\n",
      " [ 0.40369273  0.04488681 -0.02615788 ...  0.06950722  0.24987321\n",
      "   1.00008268]]\n"
     ]
    }
   ],
   "source": [
    "mean_vec = np.mean(X_train_scaled, axis=0)\n",
    "cov_mat = (X_train_scaled - mean_vec).T.dot((X_train_scaled - mean_vec)) / (X_train_scaled.shape[0]-1)\n",
    "print('Covariance matrix n%s' %cov_mat)"
   ]
  },
  {
   "cell_type": "markdown",
   "metadata": {},
   "source": [
    "### 3.4.2 Calculate eigenvectors and eigenvalues\n",
    "\n",
    "eigenvectors and eigenvalues are calculated which basically compute the Principal Components of the data set."
   ]
  },
  {
   "cell_type": "code",
   "execution_count": 42,
   "metadata": {},
   "outputs": [
    {
     "name": "stdout",
     "output_type": "stream",
     "text": [
      "Eigenvectors n[[ 4.35162838e-01 -4.55729319e-02 -1.29947171e-01 ...  6.77130478e-04\n",
      "   0.00000000e+00  0.00000000e+00]\n",
      " [ 2.68105387e-02  3.92766862e-01  1.94856166e-01 ... -2.49550479e-03\n",
      "   0.00000000e+00  0.00000000e+00]\n",
      " [-2.56234097e-01 -1.04526164e-01 -1.25698110e-01 ...  4.96199089e-03\n",
      "   0.00000000e+00  0.00000000e+00]\n",
      " ...\n",
      " [ 7.97759591e-02 -4.36334331e-02 -1.13670306e-01 ... -6.34083158e-03\n",
      "   0.00000000e+00  0.00000000e+00]\n",
      " [ 1.08557156e-01 -1.88617930e-03 -6.47997600e-02 ... -9.07263330e-02\n",
      "   0.00000000e+00  0.00000000e+00]\n",
      " [ 1.75321147e-01  4.25716142e-02 -1.78616866e-01 ... -1.31966608e-04\n",
      "   0.00000000e+00  0.00000000e+00]]\n",
      "nEigenvalues n[ 4.23036459e+00  2.99393902e+00  2.22462744e+00  1.86171167e+00\n",
      "  1.49581187e+00  5.72500717e-02  1.32469182e-01  2.05703826e-01\n",
      "  2.81013771e-03  3.16574536e-01  3.52732187e-01  3.90837349e-01\n",
      "  5.16211551e-01  5.74121479e-01  6.04450608e-01  1.24631747e+00\n",
      "  8.11966283e-01 -1.03041235e-16  2.61964104e-16  1.17565851e+00\n",
      "  1.14990496e+00  1.13860604e+00  9.44420885e-01  1.06249901e+00\n",
      "  1.05842595e+00  1.05168107e+00  1.04862501e+00  1.04646252e+00\n",
      "  1.03745162e+00  1.03693011e+00  1.03186493e+00  1.02999133e+00\n",
      "  1.02594146e+00  1.02481363e+00  1.02336522e+00  1.01743610e+00\n",
      "  1.01711543e+00  1.01345266e+00  1.01125119e+00  1.00912363e+00\n",
      "  1.00701470e+00  1.00596766e+00  1.00441322e+00  1.00403621e+00\n",
      "  1.00276898e+00  1.00242310e+00  1.00028347e+00  1.00165729e+00\n",
      "  1.00069407e+00  1.00106309e+00  1.00097430e+00  0.00000000e+00\n",
      "  0.00000000e+00]\n"
     ]
    }
   ],
   "source": [
    "#Calculating eigenvectors and eigenvalues on covariance matrix\n",
    "cov_mat = np.cov(X_train_scaled.T)\n",
    "eig_vals, eig_vecs = np.linalg.eig(cov_mat)\n",
    "print('Eigenvectors n%s' %eig_vecs)\n",
    "print('nEigenvalues n%s' %eig_vals)"
   ]
  },
  {
   "cell_type": "markdown",
   "metadata": {},
   "source": [
    "### 3.4.3 Compute the feature vector \n",
    "\n",
    "In this step, we rearrange the eigenvalues in descending order. This represents the significance of the principal components in descending order:"
   ]
  },
  {
   "cell_type": "code",
   "execution_count": 43,
   "metadata": {},
   "outputs": [
    {
     "name": "stdout",
     "output_type": "stream",
     "text": [
      "Eigenvalues in descending order:\n",
      "4.230364592117532\n",
      "2.99393901643445\n",
      "2.224627435044916\n",
      "1.8617116683649302\n",
      "1.495811867901615\n",
      "0.057250071725051296\n",
      "0.13246918176122538\n",
      "0.20570382621570776\n",
      "0.002810137709412706\n",
      "0.3165745356477706\n",
      "0.3527321867848138\n",
      "0.39083734863825986\n",
      "0.5162115509720551\n",
      "0.574121478513556\n",
      "0.6044506080758097\n",
      "1.2463174656413039\n",
      "0.8119662833203564\n",
      "1.0304123493865478e-16\n",
      "2.6196410359419975e-16\n",
      "1.1756585127545698\n",
      "1.149904960076983\n",
      "1.1386060444644506\n",
      "0.9444208849513753\n",
      "1.0624990077626373\n",
      "1.058425953409809\n",
      "1.0516810734603657\n",
      "1.0486250072485375\n",
      "1.0464625217197179\n",
      "1.0374516199735588\n",
      "1.0369301081312305\n",
      "1.0318649294354052\n",
      "1.0299913310260886\n",
      "1.0259414647232905\n",
      "1.024813628095055\n",
      "1.0233652195384313\n",
      "1.017436095704344\n",
      "1.0171154256975663\n",
      "1.0134526556712364\n",
      "1.0112511916473996\n",
      "1.0091236321154184\n",
      "1.007014701885283\n",
      "1.0059676634958852\n",
      "1.004413224742487\n",
      "1.0040362084140446\n",
      "1.0027689845903902\n",
      "1.00242309630451\n",
      "1.0002834712523643\n",
      "1.0016572912402653\n",
      "1.0006940725073807\n",
      "1.0010630862886538\n",
      "1.000974295239877\n",
      "0.0\n",
      "0.0\n"
     ]
    }
   ],
   "source": [
    "# Visually confirm that the list is correctly sorted by decreasing eigenvalues\n",
    "eig_pairs = [(np.abs(eig_vals[i]), eig_vecs[:,i]) for i in range(len(eig_vals))]\n",
    "print('Eigenvalues in descending order:')\n",
    "for i in eig_pairs:\n",
    "    pprint(i[0])"
   ]
  },
  {
   "cell_type": "markdown",
   "metadata": {},
   "source": [
    "### 3.4.4 Use the PCA() function to reduce the dimensionality of the data set\n",
    "\n",
    "The below code snippet uses the pre-defined PCA() function provided by the sklearn package in order to transform the data. The n_components parameter denotes the number of Principal Components we want to fit your data with:"
   ]
  },
  {
   "cell_type": "code",
   "execution_count": 44,
   "metadata": {},
   "outputs": [
    {
     "name": "stdout",
     "output_type": "stream",
     "text": [
      "[7.22807604e-01 2.24809424e-01 3.62564001e-02 1.12884849e-02\n",
      " 4.16361946e-03 4.66298593e-04 1.94196098e-04 1.27619306e-05\n",
      " 8.11949756e-07 9.84796408e-08 4.49622683e-08 2.79354860e-08\n",
      " 1.96310125e-08 1.66041174e-08 1.51576274e-08]\n"
     ]
    }
   ],
   "source": [
    "pca = PCA(15)\n",
    "X_train_pca =pca.fit_transform(X_train)\n",
    "X_dev_pca = pca.transform(X_dev)\n",
    "print(pca.explained_variance_ratio_)"
   ]
  },
  {
   "cell_type": "markdown",
   "metadata": {},
   "source": [
    "It can be seen that first principal component is responsible for 72.28% variance. Similarly, the second principal component causes 22.48% variance in the dataset. Collectively we can say that (72.28% + 22.48) 94.76% percent of the classification information contained in the feature set is captured by the first two principal components.\n",
    "\n",
    "Try to use 1 principal component to train our algorithm. "
   ]
  },
  {
   "cell_type": "code",
   "execution_count": 45,
   "metadata": {},
   "outputs": [],
   "source": [
    "pca_2 = PCA(n_components=2)\n",
    "X_train_pca_2 = pca_2.fit_transform(X_train)\n",
    "X_dev_pca_2 = pca_2.transform(X_dev)"
   ]
  },
  {
   "cell_type": "code",
   "execution_count": 46,
   "metadata": {},
   "outputs": [],
   "source": [
    "classifier = RandomForestClassifier(max_depth=2, random_state=0)\n",
    "classifier.fit(X_train_pca_2, y_train)\n",
    "# Predicting the Test set results\n",
    "y_pred = classifier.predict(X_dev_pca_2)"
   ]
  },
  {
   "cell_type": "code",
   "execution_count": 47,
   "metadata": {},
   "outputs": [
    {
     "data": {
      "text/plain": [
       "0.3343253968253968"
      ]
     },
     "execution_count": 47,
     "metadata": {},
     "output_type": "execute_result"
    }
   ],
   "source": [
    "metrics.accuracy_score(y_dev, y_pred)"
   ]
  }
 ],
 "metadata": {
  "kernelspec": {
   "display_name": "Python 3",
   "language": "python",
   "name": "python3"
  },
  "language_info": {
   "codemirror_mode": {
    "name": "ipython",
    "version": 3
   },
   "file_extension": ".py",
   "mimetype": "text/x-python",
   "name": "python",
   "nbconvert_exporter": "python",
   "pygments_lexer": "ipython3",
   "version": "3.7.6"
  },
  "widgets": {
   "application/vnd.jupyter.widget-state+json": {
    "state": {},
    "version_major": 2,
    "version_minor": 0
   }
  }
 },
 "nbformat": 4,
 "nbformat_minor": 4
}
